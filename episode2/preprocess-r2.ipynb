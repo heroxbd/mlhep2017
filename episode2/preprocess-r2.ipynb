{
 "cells": [
  {
   "cell_type": "markdown",
   "metadata": {},
   "source": [
    "# two base tracks away"
   ]
  },
  {
   "cell_type": "code",
   "execution_count": 1,
   "metadata": {
    "collapsed": true
   },
   "outputs": [],
   "source": [
    "import numpy as np\n",
    "import pandas as pd\n",
    "from matplotlib import pyplot as plt"
   ]
  },
  {
   "cell_type": "code",
   "execution_count": 2,
   "metadata": {},
   "outputs": [
    {
     "name": "stderr",
     "output_type": "stream",
     "text": [
      "/opt/conda/anaconda3/lib/python3.6/site-packages/numpy/lib/arraysetops.py:463: FutureWarning: elementwise comparison failed; returning scalar instead, but in the future will perform elementwise comparison\n",
      "  mask |= (ar1 == a)\n"
     ]
    }
   ],
   "source": [
    "df = pd.read_csv('DS_2_train.csv', index_col=0)\n",
    "df_test = pd.read_csv('DS_2_test.csv', index_col=0)"
   ]
  },
  {
   "cell_type": "code",
   "execution_count": 3,
   "metadata": {
    "collapsed": true
   },
   "outputs": [],
   "source": [
    "zl = np.unique(df['Z'])\n",
    "zmin = np.min(zl)\n",
    "zmax = np.max(zl)\n",
    "dz = np.diff(zl)[0]"
   ]
  },
  {
   "cell_type": "code",
   "execution_count": 4,
   "metadata": {
    "collapsed": true
   },
   "outputs": [],
   "source": [
    "def dmin(v, vl):\n",
    "    return np.min(np.sum((v.values - vl)**2, axis=1))\n",
    "def ddmin_f(efr, df):\n",
    "    z0 = efr.iloc[0]['Z']\n",
    "    if z0 >= zmax - dz:\n",
    "        efr['dfore'] = 1e6\n",
    "    else:\n",
    "        eto = df.query(\"Z=={}\".format(z0 + 2*dz))\n",
    "        gfr = efr[[\"X1\", \"Y1\", \"X2\", \"Y2\"]]\n",
    "        gto = eto[[\"X\", \"Y\", \"X1\", \"Y1\"]]\n",
    "        d = gfr.apply(dmin, axis=1, args=(gto.values,))\n",
    "        efr['dfore'] = d\n",
    "    return efr\n",
    "def ddmin_b(eto, df):\n",
    "    z0 = eto.iloc[0]['Z']\n",
    "    if z0 <= zmin + dz:\n",
    "        eto['dback'] = 1e6\n",
    "    else:\n",
    "        efr = df.query(\"Z=={}\".format(z0 - 2*dz))\n",
    "        gfr = efr[[\"X1\", \"Y1\", \"X2\", \"Y2\"]]\n",
    "        gto = eto[[\"X\", \"Y\", \"X1\", \"Y1\"]]\n",
    "        d = gto.apply(dmin, axis=1, args=(gfr.values,))\n",
    "        eto['dback'] = d\n",
    "    return eto\n",
    "def ddmin(ev, df):\n",
    "    return ddmin_b(ddmin_f(ev, df), df)"
   ]
  },
  {
   "cell_type": "code",
   "execution_count": 5,
   "metadata": {
    "collapsed": true
   },
   "outputs": [],
   "source": [
    "def features(df):\n",
    "    dx = 2 * df['TX'] * dz\n",
    "    dy = 2 * df['TY'] * dz\n",
    "    df['X1'] = df['X'] + dx\n",
    "    df['Y1'] = df['Y'] + dy\n",
    "    df['X2'] = df['X1'] + dx\n",
    "    df['Y2'] = df['Y1'] + dy\n",
    "    return df.groupby(\"Z\").apply(ddmin, df)"
   ]
  },
  {
   "cell_type": "code",
   "execution_count": 6,
   "metadata": {
    "collapsed": true
   },
   "outputs": [],
   "source": [
    "xdf = df.groupby(\"brick_number\").apply(features)"
   ]
  },
  {
   "cell_type": "code",
   "execution_count": 7,
   "metadata": {
    "collapsed": true
   },
   "outputs": [],
   "source": [
    "xdf.to_hdf(\"data-r2.h5\", \"train\")"
   ]
  },
  {
   "cell_type": "code",
   "execution_count": 8,
   "metadata": {
    "collapsed": true
   },
   "outputs": [],
   "source": [
    "xdft = df_test.groupby(\"brick_number\").apply(features)"
   ]
  },
  {
   "cell_type": "code",
   "execution_count": 9,
   "metadata": {
    "collapsed": true
   },
   "outputs": [],
   "source": [
    "xdf.to_hdf(\"data-r2.h5\", \"test\")"
   ]
  },
  {
   "cell_type": "code",
   "execution_count": null,
   "metadata": {
    "collapsed": true
   },
   "outputs": [],
   "source": []
  }
 ],
 "metadata": {
  "anaconda-cloud": {},
  "kernelspec": {
   "display_name": "Python 3",
   "language": "python",
   "name": "python3"
  },
  "language_info": {
   "codemirror_mode": {
    "name": "ipython",
    "version": 3
   },
   "file_extension": ".py",
   "mimetype": "text/x-python",
   "name": "python",
   "nbconvert_exporter": "python",
   "pygments_lexer": "ipython3",
   "version": "3.6.1"
  }
 },
 "nbformat": 4,
 "nbformat_minor": 1
}
