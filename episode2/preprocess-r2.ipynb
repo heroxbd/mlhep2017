{
 "cells": [
  {
   "cell_type": "markdown",
   "metadata": {
    "ein.tags": "worksheet-0",
    "slideshow": {
     "slide_type": "-"
    }
   },
   "source": [
    "# two base tracks away"
   ]
  },
  {
   "cell_type": "code",
   "execution_count": 1,
   "metadata": {
    "autoscroll": false,
    "ein.tags": "worksheet-0",
    "slideshow": {
     "slide_type": "-"
    }
   },
   "outputs": [],
   "source": [
    "import numpy as np\n",
    "import pandas as pd\n",
    "from matplotlib import pyplot as plt"
   ]
  },
  {
   "cell_type": "code",
   "execution_count": 2,
   "metadata": {
    "autoscroll": false,
    "ein.tags": "worksheet-0",
    "slideshow": {
     "slide_type": "-"
    }
   },
   "outputs": [
    {
     "name": "stderr",
     "output_type": "stream",
     "text": [
      "/fefs/disk/usr100/gentoo/usr/lib64/python3.6/site-packages/numpy/lib/arraysetops.py:463: FutureWarning: elementwise comparison failed; returning scalar instead, but in the future will perform elementwise comparison\n",
      "  mask |= (ar1 == a)\n"
     ]
    }
   ],
   "source": [
    "df = pd.read_csv('DS_2_train.csv', index_col=0)\n",
    "df_test = pd.read_csv('DS_2_test.csv', index_col=0)"
   ]
  },
  {
   "cell_type": "code",
   "execution_count": 3,
   "metadata": {
    "autoscroll": false,
    "ein.tags": "worksheet-0",
    "slideshow": {
     "slide_type": "-"
    }
   },
   "outputs": [],
   "source": [
    "zl = np.unique(df['Z'])\n",
    "zmin = np.min(zl)\n",
    "zmax = np.max(zl)\n",
    "dz = np.diff(zl)[0]"
   ]
  },
  {
   "cell_type": "code",
   "execution_count": 4,
   "metadata": {
    "autoscroll": false,
    "ein.tags": "worksheet-0",
    "slideshow": {
     "slide_type": "-"
    }
   },
   "outputs": [],
   "source": [
    "def dmin(v, vl):\n",
    "    return np.min(np.sum((v.values - vl)**2, axis=1))\n",
    "def ddmin_f(efr, df, n):\n",
    "    z0 = efr.iloc[0]['Z']\n",
    "    if z0 >= zmax - (n-1)*dz:\n",
    "        efr['dfore'] = 1e6\n",
    "    else:\n",
    "        eto = df.query(\"Z=={}\".format(z0 + n*dz))\n",
    "        gfr = efr[[\"X1\", \"Y1\", \"X2\", \"Y2\"]]\n",
    "        gto = eto[[\"X\", \"Y\", \"XE\", \"YE\"]]\n",
    "        d = gfr.apply(dmin, axis=1, args=(gto.values,))\n",
    "        efr['dfore'] = d\n",
    "    return efr\n",
    "def ddmin_b(eto, df, n):\n",
    "    z0 = eto.iloc[0]['Z']\n",
    "    if z0 <= zmin + (n-1)*dz:\n",
    "        eto['dback'] = 1e6\n",
    "    else:\n",
    "        efr = df.query(\"Z=={}\".format(z0 - n*dz))\n",
    "        gfr = efr[[\"X1\", \"Y1\", \"X2\", \"Y2\"]]\n",
    "        gto = eto[[\"X\", \"Y\", \"XE\", \"YE\"]]\n",
    "        d = gto.apply(dmin, axis=1, args=(gfr.values,))\n",
    "        eto['dback'] = d\n",
    "    return eto\n",
    "def ddmin(ev, df, n):\n",
    "    return ddmin_b(ddmin_f(ev, df, n), df, n)"
   ]
  },
  {
   "cell_type": "code",
   "execution_count": 5,
   "metadata": {
    "autoscroll": false,
    "ein.tags": "worksheet-0",
    "slideshow": {
     "slide_type": "-"
    }
   },
   "outputs": [],
   "source": [
    "def features(df, n):\n",
    "    dx = df['TX'] * dz\n",
    "    dy = df['TY'] * dz\n",
    "    df['XE'] = df['X'] + dx\n",
    "    df['YE'] = df['Y'] + dy\n",
    "    df['X1'] = df['X'] + (n-1) * dx\n",
    "    df['Y1'] = df['Y'] + (n-1) * dy\n",
    "    df['X2'] = df['X1'] + n * dx\n",
    "    df['Y2'] = df['Y1'] + n * dy\n",
    "    return df.groupby(\"Z\").apply(ddmin, df, n)"
   ]
  },
  {
   "cell_type": "code",
   "execution_count": 6,
   "metadata": {
    "autoscroll": false,
    "ein.tags": "worksheet-0",
    "slideshow": {
     "slide_type": "-"
    }
   },
   "outputs": [],
   "source": [
    "def base_n_away(n):\n",
    "    rename = {\"dfore\":\"dfore{}\".format(n), \"dback\":\"dback{}\".format(n)}\n",
    "    xdf = df.groupby(\"brick_number\").apply(features, n)\n",
    "    xdfo = xdf[['dfore', 'dback']].rename(columns=rename)\n",
    "    xdfo.to_hdf(\"data-r{}.h5\".format(n), \"train\")\n",
    "    xdft = df_test.groupby(\"brick_number\").apply(features, n)\n",
    "    xdfot = xdft[['dfore', 'dback']].rename(columns=rename)\n",
    "    xdfot.to_hdf(\"data-r{}.h5\".format(n), \"test\")\n",
    "    return n"
   ]
  },
  {
   "cell_type": "code",
   "execution_count": 7,
   "metadata": {
    "autoscroll": false,
    "ein.tags": "worksheet-0",
    "slideshow": {
     "slide_type": "-"
    }
   },
   "outputs": [],
   "source": [
    "from concurrent.futures import ProcessPoolExecutor"
   ]
  },
  {
   "cell_type": "code",
   "execution_count": 8,
   "metadata": {
    "autoscroll": false,
    "ein.tags": "worksheet-0",
    "slideshow": {
     "slide_type": "-"
    }
   },
   "outputs": [],
   "source": [
    "with ProcessPoolExecutor(max_workers=5) as executor:\n",
    "    rst = list(executor.map(base_n_away, (2,3,4,5,6)))"
   ]
  },
  {
   "cell_type": "code",
   "execution_count": null,
   "metadata": {
    "autoscroll": false,
    "ein.tags": "worksheet-0",
    "slideshow": {
     "slide_type": "-"
    }
   },
   "outputs": [],
   "source": []
  }
 ],
 "metadata": {
  "anaconda-cloud": null,
  "kernelspec": {
   "display_name": "Python 3",
   "language": "python3.6",
   "name": "python3"
  },
  "language_info": {
   "codemirror_mode": {
    "name": "ipython",
    "version": 3
   },
   "file_extension": ".py",
   "mimetype": "text/x-python",
   "name": "python",
   "nbconvert_exporter": "python",
   "pygments_lexer": "ipython3",
   "version": "3.6.1"
  },
  "name": "preprocess-r2.ipynb"
 },
 "nbformat": 4,
 "nbformat_minor": 1
}
