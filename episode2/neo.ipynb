{
 "cells": [
  {
   "cell_type": "markdown",
   "metadata": {},
   "source": [
    "# aggregate results"
   ]
  },
  {
   "cell_type": "code",
   "execution_count": 1,
   "metadata": {},
   "outputs": [
    {
     "name": "stderr",
     "output_type": "stream",
     "text": [
      "/opt/conda/anaconda3/lib/python3.6/site-packages/sklearn/cross_validation.py:44: DeprecationWarning: This module was deprecated in version 0.18 in favor of the model_selection module into which all the refactored classes and functions are moved. Also note that the interface of the new CV iterators are different from that of this module. This module will be removed in 0.20.\n",
      "  \"This module will be removed in 0.20.\", DeprecationWarning)\n"
     ]
    }
   ],
   "source": [
    "import numpy as np\n",
    "import pandas as pd\n",
    "import xgboost\n",
    "from sklearn.metrics import roc_auc_score"
   ]
  },
  {
   "cell_type": "code",
   "execution_count": 2,
   "metadata": {
    "collapsed": true
   },
   "outputs": [],
   "source": [
    "df = pd.read_hdf(\"data-r1.h5\", \"train\")\n",
    "df2 = pd.read_hdf(\"data-r2.h5\", \"train\")"
   ]
  },
  {
   "cell_type": "code",
   "execution_count": 3,
   "metadata": {
    "collapsed": true
   },
   "outputs": [],
   "source": [
    "m2 = df2[['dfore', 'dback']].rename(columns={\"dfore\":\"dfore2\", \"dback\":\"dback2\"})\n",
    "d0 = pd.concat((df, m2), axis=1)\n",
    "ofeature = [\"dfore\", \"dback\", \"dfore2\", \"dback2\"]"
   ]
  },
  {
   "cell_type": "code",
   "execution_count": 4,
   "metadata": {
    "collapsed": true
   },
   "outputs": [],
   "source": [
    "# d0[ofeature].to_hdf(\"shared.h5\", \"train\", complevel=9)"
   ]
  },
  {
   "cell_type": "code",
   "execution_count": 5,
   "metadata": {},
   "outputs": [
    {
     "name": "stderr",
     "output_type": "stream",
     "text": [
      "/opt/conda/anaconda3/lib/python3.6/site-packages/numpy/lib/arraysetops.py:463: FutureWarning: elementwise comparison failed; returning scalar instead, but in the future will perform elementwise comparison\n",
      "  mask |= (ar1 == a)\n"
     ]
    }
   ],
   "source": [
    "c0 = pd.read_csv(\"/data/episode2/miha_train_add.csv\", index_col=0, usecols=[\"index\", \"grid_value\", \"smoothgrid_value\"])"
   ]
  },
  {
   "cell_type": "code",
   "execution_count": 6,
   "metadata": {
    "collapsed": true
   },
   "outputs": [],
   "source": [
    "ct0 = pd.read_csv(\"/data/episode2/miha_test_add.csv\")"
   ]
  },
  {
   "cell_type": "code",
   "execution_count": 7,
   "metadata": {
    "collapsed": true
   },
   "outputs": [],
   "source": [
    "d0 = pd.concat([d0, c0], axis=1)"
   ]
  },
  {
   "cell_type": "code",
   "execution_count": 8,
   "metadata": {},
   "outputs": [
    {
     "data": {
      "text/html": [
       "<div>\n",
       "<style>\n",
       "    .dataframe thead tr:only-child th {\n",
       "        text-align: right;\n",
       "    }\n",
       "\n",
       "    .dataframe thead th {\n",
       "        text-align: left;\n",
       "    }\n",
       "\n",
       "    .dataframe tbody tr th {\n",
       "        vertical-align: top;\n",
       "    }\n",
       "</style>\n",
       "<table border=\"1\" class=\"dataframe\">\n",
       "  <thead>\n",
       "    <tr style=\"text-align: right;\">\n",
       "      <th></th>\n",
       "      <th>event_id</th>\n",
       "      <th>X</th>\n",
       "      <th>Y</th>\n",
       "      <th>Z</th>\n",
       "      <th>TX</th>\n",
       "      <th>TY</th>\n",
       "      <th>chi2</th>\n",
       "      <th>signal</th>\n",
       "      <th>brick_number</th>\n",
       "      <th>X1</th>\n",
       "      <th>Y1</th>\n",
       "      <th>X2</th>\n",
       "      <th>Y2</th>\n",
       "      <th>dfore</th>\n",
       "      <th>dback</th>\n",
       "      <th>dfore2</th>\n",
       "      <th>dback2</th>\n",
       "      <th>grid_value</th>\n",
       "      <th>smoothgrid_value</th>\n",
       "    </tr>\n",
       "    <tr>\n",
       "      <th>index</th>\n",
       "      <th></th>\n",
       "      <th></th>\n",
       "      <th></th>\n",
       "      <th></th>\n",
       "      <th></th>\n",
       "      <th></th>\n",
       "      <th></th>\n",
       "      <th></th>\n",
       "      <th></th>\n",
       "      <th></th>\n",
       "      <th></th>\n",
       "      <th></th>\n",
       "      <th></th>\n",
       "      <th></th>\n",
       "      <th></th>\n",
       "      <th></th>\n",
       "      <th></th>\n",
       "      <th></th>\n",
       "      <th></th>\n",
       "    </tr>\n",
       "  </thead>\n",
       "  <tbody>\n",
       "    <tr>\n",
       "      <th>0</th>\n",
       "      <td>35130</td>\n",
       "      <td>50550.007812</td>\n",
       "      <td>66924.796875</td>\n",
       "      <td>65943.0</td>\n",
       "      <td>0.639179</td>\n",
       "      <td>-0.086816</td>\n",
       "      <td>0.583319</td>\n",
       "      <td>1.0</td>\n",
       "      <td>53</td>\n",
       "      <td>51376.465940</td>\n",
       "      <td>66812.543260</td>\n",
       "      <td>52202.924067</td>\n",
       "      <td>66700.289645</td>\n",
       "      <td>1.585658e+05</td>\n",
       "      <td>4.217776e+05</td>\n",
       "      <td>1.452454e+06</td>\n",
       "      <td>9.732423e+05</td>\n",
       "      <td>1.257399</td>\n",
       "      <td>4.538903</td>\n",
       "    </tr>\n",
       "    <tr>\n",
       "      <th>1</th>\n",
       "      <td>-999</td>\n",
       "      <td>48811.390625</td>\n",
       "      <td>65584.648438</td>\n",
       "      <td>12930.0</td>\n",
       "      <td>0.569996</td>\n",
       "      <td>0.294196</td>\n",
       "      <td>1.582101</td>\n",
       "      <td>0.0</td>\n",
       "      <td>49</td>\n",
       "      <td>49548.395837</td>\n",
       "      <td>65965.044417</td>\n",
       "      <td>50285.401050</td>\n",
       "      <td>66345.440397</td>\n",
       "      <td>1.121876e+06</td>\n",
       "      <td>1.481368e+05</td>\n",
       "      <td>3.367042e+06</td>\n",
       "      <td>3.826505e+06</td>\n",
       "      <td>1.252355</td>\n",
       "      <td>4.327241</td>\n",
       "    </tr>\n",
       "    <tr>\n",
       "      <th>2</th>\n",
       "      <td>-999</td>\n",
       "      <td>30120.525391</td>\n",
       "      <td>28329.425781</td>\n",
       "      <td>21981.0</td>\n",
       "      <td>-0.366648</td>\n",
       "      <td>-0.379520</td>\n",
       "      <td>1.292502</td>\n",
       "      <td>0.0</td>\n",
       "      <td>39</td>\n",
       "      <td>29646.449426</td>\n",
       "      <td>27838.706307</td>\n",
       "      <td>29172.373461</td>\n",
       "      <td>27347.986833</td>\n",
       "      <td>1.072219e+05</td>\n",
       "      <td>1.042209e+06</td>\n",
       "      <td>1.790224e+07</td>\n",
       "      <td>1.768661e+06</td>\n",
       "      <td>0.830752</td>\n",
       "      <td>3.235831</td>\n",
       "    </tr>\n",
       "    <tr>\n",
       "      <th>3</th>\n",
       "      <td>-999</td>\n",
       "      <td>67186.773438</td>\n",
       "      <td>23033.931641</td>\n",
       "      <td>68529.0</td>\n",
       "      <td>-0.434561</td>\n",
       "      <td>0.502130</td>\n",
       "      <td>2.832125</td>\n",
       "      <td>0.0</td>\n",
       "      <td>65</td>\n",
       "      <td>66624.886046</td>\n",
       "      <td>23683.185540</td>\n",
       "      <td>66062.998655</td>\n",
       "      <td>24332.439440</td>\n",
       "      <td>1.063053e+06</td>\n",
       "      <td>2.259203e+06</td>\n",
       "      <td>3.716566e+05</td>\n",
       "      <td>1.625907e+06</td>\n",
       "      <td>1.148058</td>\n",
       "      <td>3.847546</td>\n",
       "    </tr>\n",
       "    <tr>\n",
       "      <th>4</th>\n",
       "      <td>-999</td>\n",
       "      <td>64832.343750</td>\n",
       "      <td>64279.328125</td>\n",
       "      <td>7758.0</td>\n",
       "      <td>0.139993</td>\n",
       "      <td>-0.417299</td>\n",
       "      <td>2.959314</td>\n",
       "      <td>0.0</td>\n",
       "      <td>13</td>\n",
       "      <td>65013.354136</td>\n",
       "      <td>63739.760361</td>\n",
       "      <td>65194.364523</td>\n",
       "      <td>63200.192596</td>\n",
       "      <td>1.009342e+06</td>\n",
       "      <td>2.250782e+06</td>\n",
       "      <td>2.417186e+06</td>\n",
       "      <td>3.035434e+06</td>\n",
       "      <td>0.953308</td>\n",
       "      <td>4.033998</td>\n",
       "    </tr>\n",
       "  </tbody>\n",
       "</table>\n",
       "</div>"
      ],
      "text/plain": [
       "       event_id             X             Y        Z        TX        TY  \\\n",
       "index                                                                      \n",
       "0         35130  50550.007812  66924.796875  65943.0  0.639179 -0.086816   \n",
       "1          -999  48811.390625  65584.648438  12930.0  0.569996  0.294196   \n",
       "2          -999  30120.525391  28329.425781  21981.0 -0.366648 -0.379520   \n",
       "3          -999  67186.773438  23033.931641  68529.0 -0.434561  0.502130   \n",
       "4          -999  64832.343750  64279.328125   7758.0  0.139993 -0.417299   \n",
       "\n",
       "           chi2  signal  brick_number            X1            Y1  \\\n",
       "index                                                               \n",
       "0      0.583319     1.0            53  51376.465940  66812.543260   \n",
       "1      1.582101     0.0            49  49548.395837  65965.044417   \n",
       "2      1.292502     0.0            39  29646.449426  27838.706307   \n",
       "3      2.832125     0.0            65  66624.886046  23683.185540   \n",
       "4      2.959314     0.0            13  65013.354136  63739.760361   \n",
       "\n",
       "                 X2            Y2         dfore         dback        dfore2  \\\n",
       "index                                                                         \n",
       "0      52202.924067  66700.289645  1.585658e+05  4.217776e+05  1.452454e+06   \n",
       "1      50285.401050  66345.440397  1.121876e+06  1.481368e+05  3.367042e+06   \n",
       "2      29172.373461  27347.986833  1.072219e+05  1.042209e+06  1.790224e+07   \n",
       "3      66062.998655  24332.439440  1.063053e+06  2.259203e+06  3.716566e+05   \n",
       "4      65194.364523  63200.192596  1.009342e+06  2.250782e+06  2.417186e+06   \n",
       "\n",
       "             dback2  grid_value  smoothgrid_value  \n",
       "index                                              \n",
       "0      9.732423e+05    1.257399          4.538903  \n",
       "1      3.826505e+06    1.252355          4.327241  \n",
       "2      1.768661e+06    0.830752          3.235831  \n",
       "3      1.625907e+06    1.148058          3.847546  \n",
       "4      3.035434e+06    0.953308          4.033998  "
      ]
     },
     "execution_count": 8,
     "metadata": {},
     "output_type": "execute_result"
    }
   ],
   "source": [
    "d0.head()"
   ]
  },
  {
   "cell_type": "code",
   "execution_count": 9,
   "metadata": {
    "collapsed": true
   },
   "outputs": [],
   "source": [
    "ef = pd.read_hdf(\"data-r1.h5\", \"test\")\n",
    "ef2 = pd.read_hdf(\"data-r2.h5\", \"test\")\n",
    "\n",
    "e2 = ef2[['dfore', 'dback']].rename(columns={\"dfore\":\"dfore2\", \"dback\":\"dback2\"})\n",
    "e0 = pd.concat((ef, e2), axis=1)"
   ]
  },
  {
   "cell_type": "code",
   "execution_count": 10,
   "metadata": {
    "collapsed": true
   },
   "outputs": [],
   "source": [
    "# e0[ofeature].to_hdf(\"shared.h5\", \"test\", complevel=9)"
   ]
  },
  {
   "cell_type": "code",
   "execution_count": 11,
   "metadata": {},
   "outputs": [],
   "source": [
    "features = [\"X\", \"Y\", \"Z\", \"TX\", \"TY\", \"dfore\", \"dback\", \"dfore2\", \"dback2\", \"chi2\", \"grid_value\", \"smoothgrid_value\"]\n",
    "features2 =  [\"X\", \"Y\", \"Z\", \"TX\", \"TY\", \"chi2\"]\n",
    "tb = [0, 1, 2, 9, 14, 32, 40, 55, 75, 79, 80, 81, 82, 85, 93]\n",
    "test = d0.loc[d0.brick_number.isin(tb)]\n",
    "train = d0.loc[~d0.brick_number.isin(tb)]"
   ]
  },
  {
   "cell_type": "code",
   "execution_count": null,
   "metadata": {},
   "outputs": [
    {
     "name": "stdout",
     "output_type": "stream",
     "text": [
      "CPU times: user 13h 6min 58s, sys: 2h 25min 19s, total: 15h 32min 17s\n",
      "Wall time: 1h 13s\n"
     ]
    }
   ],
   "source": [
    "%%time\n",
    "xgb2 = xgboost.XGBClassifier(n_estimators=500, nthread=20, max_depth=4, reg_alpha=0, reg_lambda=0.5)\n",
    "xgb2.fit(train[features2], train.signal)"
   ]
  },
  {
   "cell_type": "code",
   "execution_count": null,
   "metadata": {},
   "outputs": [],
   "source": [
    "xgb1 = xgboost.XGBClassifier(n_estimators=500, nthread=20, max_depth=4, reg_alpha=0, reg_lambda=0.5)\n",
    "xgb1.fit(train[features], train.signal)"
   ]
  },
  {
   "cell_type": "code",
   "execution_count": null,
   "metadata": {},
   "outputs": [],
   "source": [
    "print(roc_auc_score(test.signal, xgb1.predict_proba(test[features])[:,1]))"
   ]
  },
  {
   "cell_type": "code",
   "execution_count": null,
   "metadata": {
    "collapsed": true
   },
   "outputs": [],
   "source": []
  }
 ],
 "metadata": {
  "kernelspec": {
   "display_name": "Python 3",
   "language": "python",
   "name": "python3"
  },
  "language_info": {
   "codemirror_mode": {
    "name": "ipython",
    "version": 3
   },
   "file_extension": ".py",
   "mimetype": "text/x-python",
   "name": "python",
   "nbconvert_exporter": "python",
   "pygments_lexer": "ipython3",
   "version": "3.6.1"
  }
 },
 "nbformat": 4,
 "nbformat_minor": 2
}
