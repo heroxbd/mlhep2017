{
 "cells": [
  {
   "cell_type": "markdown",
   "metadata": {},
   "source": [
    "# aggregate results"
   ]
  },
  {
   "cell_type": "code",
   "execution_count": 1,
   "metadata": {},
   "outputs": [
    {
     "name": "stderr",
     "output_type": "stream",
     "text": [
      "/opt/conda/anaconda3/lib/python3.6/site-packages/sklearn/cross_validation.py:44: DeprecationWarning: This module was deprecated in version 0.18 in favor of the model_selection module into which all the refactored classes and functions are moved. Also note that the interface of the new CV iterators are different from that of this module. This module will be removed in 0.20.\n",
      "  \"This module will be removed in 0.20.\", DeprecationWarning)\n"
     ]
    }
   ],
   "source": [
    "import numpy as np\n",
    "import pandas as pd\n",
    "import xgboost\n",
    "from sklearn.metrics import roc_auc_score"
   ]
  },
  {
   "cell_type": "code",
   "execution_count": 2,
   "metadata": {},
   "outputs": [
    {
     "name": "stderr",
     "output_type": "stream",
     "text": [
      "/opt/conda/anaconda3/lib/python3.6/site-packages/numpy/lib/arraysetops.py:463: FutureWarning: elementwise comparison failed; returning scalar instead, but in the future will perform elementwise comparison\n",
      "  mask |= (ar1 == a)\n"
     ]
    },
    {
     "name": "stdout",
     "output_type": "stream",
     "text": [
      "(9811609, 27)\n"
     ]
    }
   ],
   "source": [
    "dl = [pd.read_csv('DS_2_train.csv', index_col=0)]\n",
    "dty = \"/data/episode2/\"\n",
    "# dl.append(pd.read_hdf(\"data-r1.h5\", \"train\"))\n",
    "dl.append(pd.read_hdf(dty + \"data-r1.h5\", \"train\"))\n",
    "for i in range(2,7):\n",
    "    dl.append(pd.read_hdf(dty + \"data-r{}.h5\".format(i), \"train\"))\n",
    "for i in range(6):\n",
    "    dl.append(pd.read_hdf(\"hiss-r{}.h5\".format(i), \"train\"))\n",
    "d0 = pd.concat(dl, axis=1)\n",
    "print(d0.shape)"
   ]
  },
  {
   "cell_type": "code",
   "execution_count": 3,
   "metadata": {},
   "outputs": [
    {
     "name": "stderr",
     "output_type": "stream",
     "text": [
      "/opt/conda/anaconda3/lib/python3.6/site-packages/numpy/lib/arraysetops.py:463: FutureWarning: elementwise comparison failed; returning scalar instead, but in the future will perform elementwise comparison\n",
      "  mask |= (ar1 == a)\n"
     ]
    },
    {
     "name": "stdout",
     "output_type": "stream",
     "text": [
      "(9789204, 25)\n"
     ]
    }
   ],
   "source": [
    "el = [pd.read_csv('DS_2_test.csv', index_col=0)]\n",
    "el.append(pd.read_hdf(dty + \"data-r1.h5\", \"test\"))\n",
    "for i in range(2,7):\n",
    "    el.append(pd.read_hdf(dty + \"data-r{}.h5\".format(i), \"test\"))\n",
    "for i in range(6):\n",
    "    el.append(pd.read_hdf(\"hiss-r{}.h5\".format(i), \"test\"))\n",
    "e0 = pd.concat(el, axis=1)\n",
    "print(e0.shape)"
   ]
  },
  {
   "cell_type": "code",
   "execution_count": 4,
   "metadata": {},
   "outputs": [
    {
     "data": {
      "text/plain": [
       "Index(['X', 'Y', 'Z', 'TX', 'TY', 'chi2', 'brick_number', 'dfore', 'dback',\n",
       "       'dfore2', 'dback2', 'dfore3', 'dback3', 'dfore4', 'dback4', 'dfore5',\n",
       "       'dback5', 'dfore6', 'dback6', 'cnt0', 'cnt1', 'cnt2', 'cnt3', 'cnt4',\n",
       "       'cnt5'],\n",
       "      dtype='object')"
      ]
     },
     "execution_count": 4,
     "metadata": {},
     "output_type": "execute_result"
    }
   ],
   "source": [
    "e0.columns"
   ]
  },
  {
   "cell_type": "code",
   "execution_count": 5,
   "metadata": {},
   "outputs": [
    {
     "data": {
      "text/plain": [
       "Index(['event_id', 'X', 'Y', 'Z', 'TX', 'TY', 'chi2', 'signal', 'brick_number',\n",
       "       'dfore', 'dback', 'dfore2', 'dback2', 'dfore3', 'dback3', 'dfore4',\n",
       "       'dback4', 'dfore5', 'dback5', 'dfore6', 'dback6', 'cnt0', 'cnt1',\n",
       "       'cnt2', 'cnt3', 'cnt4', 'cnt5'],\n",
       "      dtype='object')"
      ]
     },
     "execution_count": 5,
     "metadata": {},
     "output_type": "execute_result"
    }
   ],
   "source": [
    "d0.columns"
   ]
  },
  {
   "cell_type": "code",
   "execution_count": 6,
   "metadata": {},
   "outputs": [
    {
     "data": {
      "text/html": [
       "<div>\n",
       "<style>\n",
       "    .dataframe thead tr:only-child th {\n",
       "        text-align: right;\n",
       "    }\n",
       "\n",
       "    .dataframe thead th {\n",
       "        text-align: left;\n",
       "    }\n",
       "\n",
       "    .dataframe tbody tr th {\n",
       "        vertical-align: top;\n",
       "    }\n",
       "</style>\n",
       "<table border=\"1\" class=\"dataframe\">\n",
       "  <thead>\n",
       "    <tr style=\"text-align: right;\">\n",
       "      <th></th>\n",
       "      <th>X</th>\n",
       "      <th>Y</th>\n",
       "      <th>Z</th>\n",
       "      <th>TX</th>\n",
       "      <th>TY</th>\n",
       "      <th>chi2</th>\n",
       "      <th>brick_number</th>\n",
       "      <th>dfore</th>\n",
       "      <th>dback</th>\n",
       "      <th>dfore2</th>\n",
       "      <th>...</th>\n",
       "      <th>dfore5</th>\n",
       "      <th>dback5</th>\n",
       "      <th>dfore6</th>\n",
       "      <th>dback6</th>\n",
       "      <th>cnt0</th>\n",
       "      <th>cnt1</th>\n",
       "      <th>cnt2</th>\n",
       "      <th>cnt3</th>\n",
       "      <th>cnt4</th>\n",
       "      <th>cnt5</th>\n",
       "    </tr>\n",
       "    <tr>\n",
       "      <th>index</th>\n",
       "      <th></th>\n",
       "      <th></th>\n",
       "      <th></th>\n",
       "      <th></th>\n",
       "      <th></th>\n",
       "      <th></th>\n",
       "      <th></th>\n",
       "      <th></th>\n",
       "      <th></th>\n",
       "      <th></th>\n",
       "      <th></th>\n",
       "      <th></th>\n",
       "      <th></th>\n",
       "      <th></th>\n",
       "      <th></th>\n",
       "      <th></th>\n",
       "      <th></th>\n",
       "      <th></th>\n",
       "      <th></th>\n",
       "      <th></th>\n",
       "      <th></th>\n",
       "    </tr>\n",
       "  </thead>\n",
       "  <tbody>\n",
       "    <tr>\n",
       "      <th>0</th>\n",
       "      <td>57690.351562</td>\n",
       "      <td>40314.937500</td>\n",
       "      <td>47841.0</td>\n",
       "      <td>-0.268973</td>\n",
       "      <td>0.039472</td>\n",
       "      <td>1.113268</td>\n",
       "      <td>9</td>\n",
       "      <td>2.209555e+06</td>\n",
       "      <td>7.706569e+05</td>\n",
       "      <td>4.016672e+06</td>\n",
       "      <td>...</td>\n",
       "      <td>1.530483e+06</td>\n",
       "      <td>4.614029e+06</td>\n",
       "      <td>4.185280e+06</td>\n",
       "      <td>1.798303e+06</td>\n",
       "      <td>1.0</td>\n",
       "      <td>96.0</td>\n",
       "      <td>11825.0</td>\n",
       "      <td>1409671.0</td>\n",
       "      <td>169377264.0</td>\n",
       "      <td>2.061479e+10</td>\n",
       "    </tr>\n",
       "    <tr>\n",
       "      <th>1</th>\n",
       "      <td>37949.566406</td>\n",
       "      <td>72453.781250</td>\n",
       "      <td>50427.0</td>\n",
       "      <td>0.092281</td>\n",
       "      <td>-0.026488</td>\n",
       "      <td>2.673564</td>\n",
       "      <td>87</td>\n",
       "      <td>2.029628e+04</td>\n",
       "      <td>1.908238e+06</td>\n",
       "      <td>1.167201e+06</td>\n",
       "      <td>...</td>\n",
       "      <td>2.468699e+06</td>\n",
       "      <td>3.873801e+06</td>\n",
       "      <td>4.700463e+06</td>\n",
       "      <td>4.015226e+06</td>\n",
       "      <td>2.0</td>\n",
       "      <td>125.0</td>\n",
       "      <td>12553.0</td>\n",
       "      <td>1407005.0</td>\n",
       "      <td>164057376.0</td>\n",
       "      <td>1.948317e+10</td>\n",
       "    </tr>\n",
       "    <tr>\n",
       "      <th>2</th>\n",
       "      <td>42897.289062</td>\n",
       "      <td>16920.482422</td>\n",
       "      <td>19395.0</td>\n",
       "      <td>-0.069568</td>\n",
       "      <td>0.044336</td>\n",
       "      <td>2.672163</td>\n",
       "      <td>38</td>\n",
       "      <td>2.757374e+06</td>\n",
       "      <td>1.298424e+06</td>\n",
       "      <td>2.837138e+06</td>\n",
       "      <td>...</td>\n",
       "      <td>3.510851e+06</td>\n",
       "      <td>3.370621e+06</td>\n",
       "      <td>6.322015e+05</td>\n",
       "      <td>1.791147e+06</td>\n",
       "      <td>2.0</td>\n",
       "      <td>105.0</td>\n",
       "      <td>9587.0</td>\n",
       "      <td>1100783.0</td>\n",
       "      <td>135250814.0</td>\n",
       "      <td>1.691486e+10</td>\n",
       "    </tr>\n",
       "    <tr>\n",
       "      <th>3</th>\n",
       "      <td>54251.625000</td>\n",
       "      <td>48776.027344</td>\n",
       "      <td>20688.0</td>\n",
       "      <td>0.175112</td>\n",
       "      <td>-0.184691</td>\n",
       "      <td>2.369353</td>\n",
       "      <td>39</td>\n",
       "      <td>1.548522e+06</td>\n",
       "      <td>7.524258e+05</td>\n",
       "      <td>1.144364e+06</td>\n",
       "      <td>...</td>\n",
       "      <td>1.130592e+06</td>\n",
       "      <td>6.724501e+06</td>\n",
       "      <td>2.372434e+06</td>\n",
       "      <td>5.350869e+06</td>\n",
       "      <td>2.0</td>\n",
       "      <td>128.0</td>\n",
       "      <td>13301.0</td>\n",
       "      <td>1499538.0</td>\n",
       "      <td>175073608.0</td>\n",
       "      <td>2.088176e+10</td>\n",
       "    </tr>\n",
       "    <tr>\n",
       "      <th>4</th>\n",
       "      <td>62038.414062</td>\n",
       "      <td>26468.835938</td>\n",
       "      <td>25860.0</td>\n",
       "      <td>-0.259970</td>\n",
       "      <td>-0.155785</td>\n",
       "      <td>2.490212</td>\n",
       "      <td>36</td>\n",
       "      <td>1.190425e+05</td>\n",
       "      <td>1.646965e+06</td>\n",
       "      <td>6.390038e+05</td>\n",
       "      <td>...</td>\n",
       "      <td>7.617188e+06</td>\n",
       "      <td>6.051434e+06</td>\n",
       "      <td>2.451678e+06</td>\n",
       "      <td>2.748829e+06</td>\n",
       "      <td>1.0</td>\n",
       "      <td>94.0</td>\n",
       "      <td>9908.0</td>\n",
       "      <td>1153833.0</td>\n",
       "      <td>140408634.0</td>\n",
       "      <td>1.734247e+10</td>\n",
       "    </tr>\n",
       "  </tbody>\n",
       "</table>\n",
       "<p>5 rows × 25 columns</p>\n",
       "</div>"
      ],
      "text/plain": [
       "                  X             Y        Z        TX        TY      chi2  \\\n",
       "index                                                                      \n",
       "0      57690.351562  40314.937500  47841.0 -0.268973  0.039472  1.113268   \n",
       "1      37949.566406  72453.781250  50427.0  0.092281 -0.026488  2.673564   \n",
       "2      42897.289062  16920.482422  19395.0 -0.069568  0.044336  2.672163   \n",
       "3      54251.625000  48776.027344  20688.0  0.175112 -0.184691  2.369353   \n",
       "4      62038.414062  26468.835938  25860.0 -0.259970 -0.155785  2.490212   \n",
       "\n",
       "       brick_number         dfore         dback        dfore2      ...       \\\n",
       "index                                                              ...        \n",
       "0                 9  2.209555e+06  7.706569e+05  4.016672e+06      ...        \n",
       "1                87  2.029628e+04  1.908238e+06  1.167201e+06      ...        \n",
       "2                38  2.757374e+06  1.298424e+06  2.837138e+06      ...        \n",
       "3                39  1.548522e+06  7.524258e+05  1.144364e+06      ...        \n",
       "4                36  1.190425e+05  1.646965e+06  6.390038e+05      ...        \n",
       "\n",
       "             dfore5        dback5        dfore6        dback6  cnt0   cnt1  \\\n",
       "index                                                                        \n",
       "0      1.530483e+06  4.614029e+06  4.185280e+06  1.798303e+06   1.0   96.0   \n",
       "1      2.468699e+06  3.873801e+06  4.700463e+06  4.015226e+06   2.0  125.0   \n",
       "2      3.510851e+06  3.370621e+06  6.322015e+05  1.791147e+06   2.0  105.0   \n",
       "3      1.130592e+06  6.724501e+06  2.372434e+06  5.350869e+06   2.0  128.0   \n",
       "4      7.617188e+06  6.051434e+06  2.451678e+06  2.748829e+06   1.0   94.0   \n",
       "\n",
       "          cnt2       cnt3         cnt4          cnt5  \n",
       "index                                                 \n",
       "0      11825.0  1409671.0  169377264.0  2.061479e+10  \n",
       "1      12553.0  1407005.0  164057376.0  1.948317e+10  \n",
       "2       9587.0  1100783.0  135250814.0  1.691486e+10  \n",
       "3      13301.0  1499538.0  175073608.0  2.088176e+10  \n",
       "4       9908.0  1153833.0  140408634.0  1.734247e+10  \n",
       "\n",
       "[5 rows x 25 columns]"
      ]
     },
     "execution_count": 6,
     "metadata": {},
     "output_type": "execute_result"
    }
   ],
   "source": [
    "e0.head()"
   ]
  },
  {
   "cell_type": "code",
   "execution_count": 7,
   "metadata": {},
   "outputs": [
    {
     "data": {
      "text/html": [
       "<div>\n",
       "<style>\n",
       "    .dataframe thead tr:only-child th {\n",
       "        text-align: right;\n",
       "    }\n",
       "\n",
       "    .dataframe thead th {\n",
       "        text-align: left;\n",
       "    }\n",
       "\n",
       "    .dataframe tbody tr th {\n",
       "        vertical-align: top;\n",
       "    }\n",
       "</style>\n",
       "<table border=\"1\" class=\"dataframe\">\n",
       "  <thead>\n",
       "    <tr style=\"text-align: right;\">\n",
       "      <th></th>\n",
       "      <th>event_id</th>\n",
       "      <th>X</th>\n",
       "      <th>Y</th>\n",
       "      <th>Z</th>\n",
       "      <th>TX</th>\n",
       "      <th>TY</th>\n",
       "      <th>chi2</th>\n",
       "      <th>signal</th>\n",
       "      <th>brick_number</th>\n",
       "      <th>dfore</th>\n",
       "      <th>...</th>\n",
       "      <th>dfore5</th>\n",
       "      <th>dback5</th>\n",
       "      <th>dfore6</th>\n",
       "      <th>dback6</th>\n",
       "      <th>cnt0</th>\n",
       "      <th>cnt1</th>\n",
       "      <th>cnt2</th>\n",
       "      <th>cnt3</th>\n",
       "      <th>cnt4</th>\n",
       "      <th>cnt5</th>\n",
       "    </tr>\n",
       "    <tr>\n",
       "      <th>index</th>\n",
       "      <th></th>\n",
       "      <th></th>\n",
       "      <th></th>\n",
       "      <th></th>\n",
       "      <th></th>\n",
       "      <th></th>\n",
       "      <th></th>\n",
       "      <th></th>\n",
       "      <th></th>\n",
       "      <th></th>\n",
       "      <th></th>\n",
       "      <th></th>\n",
       "      <th></th>\n",
       "      <th></th>\n",
       "      <th></th>\n",
       "      <th></th>\n",
       "      <th></th>\n",
       "      <th></th>\n",
       "      <th></th>\n",
       "      <th></th>\n",
       "      <th></th>\n",
       "    </tr>\n",
       "  </thead>\n",
       "  <tbody>\n",
       "    <tr>\n",
       "      <th>0</th>\n",
       "      <td>35130</td>\n",
       "      <td>50550.007812</td>\n",
       "      <td>66924.796875</td>\n",
       "      <td>65943.0</td>\n",
       "      <td>0.639179</td>\n",
       "      <td>-0.086816</td>\n",
       "      <td>0.583319</td>\n",
       "      <td>1.0</td>\n",
       "      <td>53</td>\n",
       "      <td>1.585658e+05</td>\n",
       "      <td>...</td>\n",
       "      <td>1.194471e+07</td>\n",
       "      <td>1.780062e+05</td>\n",
       "      <td>1.000000e+06</td>\n",
       "      <td>1.286357e+06</td>\n",
       "      <td>8.0</td>\n",
       "      <td>452.0</td>\n",
       "      <td>38502.0</td>\n",
       "      <td>3863845.0</td>\n",
       "      <td>416073347.0</td>\n",
       "      <td>4.649980e+10</td>\n",
       "    </tr>\n",
       "    <tr>\n",
       "      <th>1</th>\n",
       "      <td>-999</td>\n",
       "      <td>48811.390625</td>\n",
       "      <td>65584.648438</td>\n",
       "      <td>12930.0</td>\n",
       "      <td>0.569996</td>\n",
       "      <td>0.294196</td>\n",
       "      <td>1.582101</td>\n",
       "      <td>0.0</td>\n",
       "      <td>49</td>\n",
       "      <td>1.121876e+06</td>\n",
       "      <td>...</td>\n",
       "      <td>9.551373e+06</td>\n",
       "      <td>4.645293e+06</td>\n",
       "      <td>1.411788e+07</td>\n",
       "      <td>5.929448e+06</td>\n",
       "      <td>1.0</td>\n",
       "      <td>72.0</td>\n",
       "      <td>7696.0</td>\n",
       "      <td>930396.0</td>\n",
       "      <td>117267251.0</td>\n",
       "      <td>1.495537e+10</td>\n",
       "    </tr>\n",
       "    <tr>\n",
       "      <th>2</th>\n",
       "      <td>-999</td>\n",
       "      <td>30120.525391</td>\n",
       "      <td>28329.425781</td>\n",
       "      <td>21981.0</td>\n",
       "      <td>-0.366648</td>\n",
       "      <td>-0.379520</td>\n",
       "      <td>1.292502</td>\n",
       "      <td>0.0</td>\n",
       "      <td>39</td>\n",
       "      <td>1.072219e+05</td>\n",
       "      <td>...</td>\n",
       "      <td>1.702247e+07</td>\n",
       "      <td>1.874143e+06</td>\n",
       "      <td>2.716491e+07</td>\n",
       "      <td>6.713113e+06</td>\n",
       "      <td>1.0</td>\n",
       "      <td>56.0</td>\n",
       "      <td>7168.0</td>\n",
       "      <td>925015.0</td>\n",
       "      <td>117055868.0</td>\n",
       "      <td>1.469201e+10</td>\n",
       "    </tr>\n",
       "    <tr>\n",
       "      <th>3</th>\n",
       "      <td>-999</td>\n",
       "      <td>67186.773438</td>\n",
       "      <td>23033.931641</td>\n",
       "      <td>68529.0</td>\n",
       "      <td>-0.434561</td>\n",
       "      <td>0.502130</td>\n",
       "      <td>2.832125</td>\n",
       "      <td>0.0</td>\n",
       "      <td>65</td>\n",
       "      <td>1.063053e+06</td>\n",
       "      <td>...</td>\n",
       "      <td>1.000000e+06</td>\n",
       "      <td>7.125893e+06</td>\n",
       "      <td>1.000000e+06</td>\n",
       "      <td>1.057944e+06</td>\n",
       "      <td>1.0</td>\n",
       "      <td>65.0</td>\n",
       "      <td>7767.0</td>\n",
       "      <td>982534.0</td>\n",
       "      <td>125283734.0</td>\n",
       "      <td>1.592927e+10</td>\n",
       "    </tr>\n",
       "    <tr>\n",
       "      <th>4</th>\n",
       "      <td>-999</td>\n",
       "      <td>64832.343750</td>\n",
       "      <td>64279.328125</td>\n",
       "      <td>7758.0</td>\n",
       "      <td>0.139993</td>\n",
       "      <td>-0.417299</td>\n",
       "      <td>2.959314</td>\n",
       "      <td>0.0</td>\n",
       "      <td>13</td>\n",
       "      <td>1.009342e+06</td>\n",
       "      <td>...</td>\n",
       "      <td>2.714149e+06</td>\n",
       "      <td>1.649428e+06</td>\n",
       "      <td>8.194248e+06</td>\n",
       "      <td>1.950152e+06</td>\n",
       "      <td>1.0</td>\n",
       "      <td>67.0</td>\n",
       "      <td>7935.0</td>\n",
       "      <td>991420.0</td>\n",
       "      <td>125263663.0</td>\n",
       "      <td>1.587399e+10</td>\n",
       "    </tr>\n",
       "  </tbody>\n",
       "</table>\n",
       "<p>5 rows × 27 columns</p>\n",
       "</div>"
      ],
      "text/plain": [
       "       event_id             X             Y        Z        TX        TY  \\\n",
       "index                                                                      \n",
       "0         35130  50550.007812  66924.796875  65943.0  0.639179 -0.086816   \n",
       "1          -999  48811.390625  65584.648438  12930.0  0.569996  0.294196   \n",
       "2          -999  30120.525391  28329.425781  21981.0 -0.366648 -0.379520   \n",
       "3          -999  67186.773438  23033.931641  68529.0 -0.434561  0.502130   \n",
       "4          -999  64832.343750  64279.328125   7758.0  0.139993 -0.417299   \n",
       "\n",
       "           chi2  signal  brick_number         dfore      ...       \\\n",
       "index                                                    ...        \n",
       "0      0.583319     1.0            53  1.585658e+05      ...        \n",
       "1      1.582101     0.0            49  1.121876e+06      ...        \n",
       "2      1.292502     0.0            39  1.072219e+05      ...        \n",
       "3      2.832125     0.0            65  1.063053e+06      ...        \n",
       "4      2.959314     0.0            13  1.009342e+06      ...        \n",
       "\n",
       "             dfore5        dback5        dfore6        dback6  cnt0   cnt1  \\\n",
       "index                                                                        \n",
       "0      1.194471e+07  1.780062e+05  1.000000e+06  1.286357e+06   8.0  452.0   \n",
       "1      9.551373e+06  4.645293e+06  1.411788e+07  5.929448e+06   1.0   72.0   \n",
       "2      1.702247e+07  1.874143e+06  2.716491e+07  6.713113e+06   1.0   56.0   \n",
       "3      1.000000e+06  7.125893e+06  1.000000e+06  1.057944e+06   1.0   65.0   \n",
       "4      2.714149e+06  1.649428e+06  8.194248e+06  1.950152e+06   1.0   67.0   \n",
       "\n",
       "          cnt2       cnt3         cnt4          cnt5  \n",
       "index                                                 \n",
       "0      38502.0  3863845.0  416073347.0  4.649980e+10  \n",
       "1       7696.0   930396.0  117267251.0  1.495537e+10  \n",
       "2       7168.0   925015.0  117055868.0  1.469201e+10  \n",
       "3       7767.0   982534.0  125283734.0  1.592927e+10  \n",
       "4       7935.0   991420.0  125263663.0  1.587399e+10  \n",
       "\n",
       "[5 rows x 27 columns]"
      ]
     },
     "execution_count": 7,
     "metadata": {},
     "output_type": "execute_result"
    }
   ],
   "source": [
    "d0.head()"
   ]
  },
  {
   "cell_type": "code",
   "execution_count": 8,
   "metadata": {
    "collapsed": true
   },
   "outputs": [],
   "source": [
    "# e0[ofeature].to_hdf(\"shared.h5\", \"test\", complevel=9)"
   ]
  },
  {
   "cell_type": "code",
   "execution_count": 9,
   "metadata": {},
   "outputs": [],
   "source": [
    "features = [\"X\", \"Y\", \"Z\", \"TX\", \"TY\", \"chi2\"] + [\"dfore{}\".format(i) for i in range(2,7)]\n",
    "features += [\"dback{}\".format(i) for i in range(2,7)]\n",
    "features += [\"dback\", \"dfore\"]\n",
    "features += [\"cnt{}\".format(i) for i in range(4)]\n",
    "features2 =  [\"X\", \"Y\", \"Z\", \"TX\", \"TY\", \"chi2\"]\n",
    "tb = [0, 1, 2, 9, 14, 32, 40, 55, 75, 79, 80, 81, 82, 85, 93]\n",
    "test = d0.loc[d0.brick_number.isin(tb)]\n",
    "train = d0.loc[~d0.brick_number.isin(tb)]"
   ]
  },
  {
   "cell_type": "code",
   "execution_count": 10,
   "metadata": {},
   "outputs": [
    {
     "name": "stdout",
     "output_type": "stream",
     "text": [
      "138529 8298484\n",
      "277058\n"
     ]
    }
   ],
   "source": [
    "print(len(train.query(\"signal==1\")), len(train.query(\"signal==0\")))\n",
    "train_s = train.query(\"signal==1\")\n",
    "train1 = pd.concat((train_s, train.query(\"signal==0\").sample(len(train_s))))\n",
    "print(len(train1))"
   ]
  },
  {
   "cell_type": "code",
   "execution_count": 17,
   "metadata": {},
   "outputs": [
    {
     "name": "stdout",
     "output_type": "stream",
     "text": [
      "162209 324418\n"
     ]
    }
   ],
   "source": [
    "d0_s = d0.query(\"signal==1\")\n",
    "d01 = pd.concat((d0_s, train.query(\"signal==0\").sample(len(d0_s))))\n",
    "print(len(d0_s), len(d01))"
   ]
  },
  {
   "cell_type": "code",
   "execution_count": 22,
   "metadata": {},
   "outputs": [
    {
     "data": {
      "text/plain": [
       "XGBClassifier(base_score=0.5, colsample_bylevel=1, colsample_bytree=1,\n",
       "       gamma=0, learning_rate=0.1, max_delta_step=0, max_depth=4,\n",
       "       min_child_weight=1, missing=None, n_estimators=500, nthread=20,\n",
       "       objective='binary:logistic', reg_alpha=0, reg_lambda=0.5,\n",
       "       scale_pos_weight=1, seed=0, silent=True, subsample=1)"
      ]
     },
     "execution_count": 22,
     "metadata": {},
     "output_type": "execute_result"
    }
   ],
   "source": [
    "xgb1 = xgboost.XGBClassifier(n_estimators=500, nthread=20, max_depth=4, reg_alpha=0, reg_lambda=0.5)\n",
    "xgb1.fit(train[features], train.signal)"
   ]
  },
  {
   "cell_type": "code",
   "execution_count": 23,
   "metadata": {},
   "outputs": [
    {
     "name": "stdout",
     "output_type": "stream",
     "text": [
      "0.997267414498\n"
     ]
    }
   ],
   "source": [
    "pred0 = xgb1.predict_proba(test[features])[:,1]\n",
    "print(roc_auc_score(test.signal, pred0))"
   ]
  },
  {
   "cell_type": "code",
   "execution_count": 24,
   "metadata": {},
   "outputs": [],
   "source": [
    "# xgb2 = xgboost.XGBClassifier(n_estimators=500, nthread=20, max_depth=4, reg_lambda=0.5)\n",
    "# xgb2.fit(d0[features], d0.signal)"
   ]
  },
  {
   "cell_type": "code",
   "execution_count": 25,
   "metadata": {},
   "outputs": [],
   "source": [
    "pred = xgb1.predict_proba(e0[features])[:,1]"
   ]
  },
  {
   "cell_type": "code",
   "execution_count": 26,
   "metadata": {
    "collapsed": true
   },
   "outputs": [],
   "source": [
    "def tresult(prediction, rev):\n",
    "    baseline = pd.DataFrame(prediction, columns=['Prediction'])\n",
    "    baseline.index.name = 'Id'\n",
    "    baseline.to_csv('{}.csv.gz'.format(rev), header=True, compression=\"gzip\")\n",
    "tresult(pred, \"noratio\")"
   ]
  },
  {
   "cell_type": "code",
   "execution_count": null,
   "metadata": {
    "collapsed": true
   },
   "outputs": [],
   "source": []
  }
 ],
 "metadata": {
  "kernelspec": {
   "display_name": "Python 3",
   "language": "python",
   "name": "python3"
  },
  "language_info": {
   "codemirror_mode": {
    "name": "ipython",
    "version": 3
   },
   "file_extension": ".py",
   "mimetype": "text/x-python",
   "name": "python",
   "nbconvert_exporter": "python",
   "pygments_lexer": "ipython3",
   "version": "3.6.1"
  }
 },
 "nbformat": 4,
 "nbformat_minor": 2
}
