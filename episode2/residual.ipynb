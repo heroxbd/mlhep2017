{
 "cells": [
  {
   "cell_type": "code",
   "execution_count": 2,
   "metadata": {
    "autoscroll": false,
    "collapsed": false,
    "ein.tags": "worksheet-0",
    "slideshow": {
     "slide_type": "-"
    }
   },
   "outputs": [],
   "source": [
    "import numpy as np, pandas as pd, matplotlib as mpl\n",
    "%matplotlib inline\n",
    "mpl.rcParams[\"figure.facecolor\"] = \"white\"\n",
    "from matplotlib import pyplot as plt\n"
   ]
  },
  {
   "cell_type": "code",
   "execution_count": null,
   "metadata": {
    "autoscroll": false,
    "collapsed": false,
    "ein.tags": "worksheet-0",
    "slideshow": {
     "slide_type": "-"
    }
   },
   "outputs": [
    {
     "name": "stderr",
     "output_type": "stream",
     "text": [
      "/fefs/disk/usr100/gentoo/usr/lib64/python3.6/site-packages/numpy/lib/arraysetops.py:463: FutureWarning: elementwise comparison failed; returning scalar instead, but in the future will perform elementwise comparison\n",
      "  mask |= (ar1 == a)\n"
     ]
    }
   ],
   "source": [
    "x = pd.read_hdf(\"rst0.h5\", \"train\")\n",
    "y = pd.read_csv('DS_2_train.csv', index_col=0)\n",
    "z = pd.merge(y, x, left_index=True, right_index=True)\n"
   ]
  },
  {
   "cell_type": "code",
   "execution_count": 9,
   "metadata": {
    "autoscroll": false,
    "collapsed": false,
    "ein.tags": "worksheet-0",
    "slideshow": {
     "slide_type": "-"
    }
   },
   "outputs": [],
   "source": [
    "def addf(df):\n",
    "    df['eX'] = np.arctan2(1, df.TX)\n",
    "    df['rX'] = df.Z*np.cos(df.eX) + df.X*np.sin(df.eX)\n",
    "    df['eY'] = np.arctan2(1, df.TY)\n",
    "    df['rY'] = df.Z*np.cos(df.eY) + df.Y*np.sin(df.eY)\n",
    "\n",
    "addf(z)"
   ]
  },
  {
   "cell_type": "code",
   "execution_count": 22,
   "metadata": {
    "autoscroll": false,
    "collapsed": false,
    "ein.tags": "worksheet-0",
    "slideshow": {
     "slide_type": "-"
    }
   },
   "outputs": [],
   "source": [
    "tx2 = z.TX ** 2\n",
    "ty2 = z.TY ** 2\n",
    "tz2 = 1/(1 + tx2 + ty2)\n",
    "bx2 = tx2 * tz2\n",
    "by2 = ty2 * tz2\n",
    "bxy = np.sqrt(bx2 * by2)\n",
    "bz1 = np.sqrt(tz2) + 1\n",
    "\n",
    "z['bX'] = (1-bx2/bz1) * z.X - bxy/bz1 * z.Y - z.TX * z.Z\n",
    "z['bY'] = - bxy/bz1 * z.X + (1-by2/bz1) * z.Y - z.TX * z.Z"
   ]
  },
  {
   "cell_type": "code",
   "execution_count": 84,
   "metadata": {
    "autoscroll": false,
    "collapsed": false,
    "ein.tags": "worksheet-0",
    "slideshow": {
     "slide_type": "-"
    }
   },
   "outputs": [],
   "source": [
    "bn = 77\n",
    "zb = z.query(\"rst0 < 0.5 & signal > 0.5\")\n",
    "zb1 = zb.query(\"brick_number=={}\".format(bn))"
   ]
  },
  {
   "cell_type": "code",
   "execution_count": 85,
   "metadata": {
    "autoscroll": false,
    "collapsed": false,
    "ein.tags": "worksheet-0",
    "slideshow": {
     "slide_type": "-"
    }
   },
   "outputs": [],
   "source": [
    "za = z.query(\"signal > 0.5\")\n",
    "za1 = za.query(\"brick_number=={}\".format(bn))\n"
   ]
  },
  {
   "cell_type": "code",
   "execution_count": 86,
   "metadata": {
    "autoscroll": false,
    "collapsed": false,
    "ein.tags": "worksheet-0",
    "slideshow": {
     "slide_type": "-"
    }
   },
   "outputs": [
    {
     "data": {
      "text/plain": [
       "<matplotlib.figure.Figure at 0x7fbb887bd2e8>"
      ]
     },
     "metadata": {},
     "output_type": "display_data"
    },
    {
     "data": {
      "text/plain": [
       "[<matplotlib.lines.Line2D at 0x7fbb81478dd8>]"
      ]
     },
     "execution_count": 86,
     "metadata": {},
     "output_type": "execute_result"
    }
   ],
   "source": [
    "plt.plot(za1.bX, za1.bY, '.', alpha=0.2)\n",
    "plt.plot(zb1.bX, zb1.bY, 'o')"
   ]
  },
  {
   "cell_type": "code",
   "execution_count": 87,
   "metadata": {
    "autoscroll": false,
    "collapsed": false,
    "ein.tags": "worksheet-0",
    "slideshow": {
     "slide_type": "-"
    }
   },
   "outputs": [
    {
     "data": {
      "text/plain": [
       "<matplotlib.figure.Figure at 0x7fbb81496fd0>"
      ]
     },
     "metadata": {},
     "output_type": "display_data"
    },
    {
     "data": {
      "text/plain": [
       "[<matplotlib.lines.Line2D at 0x7fbb885a8da0>]"
      ]
     },
     "execution_count": 87,
     "metadata": {},
     "output_type": "execute_result"
    }
   ],
   "source": [
    "plt.plot(za1.X, za1.Y, '.', alpha=0.5)\n",
    "plt.plot(zb1.X, zb1.Y, 'o')\n"
   ]
  },
  {
   "cell_type": "code",
   "execution_count": 88,
   "metadata": {
    "autoscroll": false,
    "collapsed": false,
    "ein.tags": "worksheet-0",
    "slideshow": {
     "slide_type": "-"
    }
   },
   "outputs": [],
   "source": [
    "z1 = z.query('brick_number=={}'.format(bn))"
   ]
  },
  {
   "cell_type": "code",
   "execution_count": 89,
   "metadata": {
    "autoscroll": false,
    "collapsed": false,
    "ein.tags": "worksheet-0",
    "slideshow": {
     "slide_type": "-"
    }
   },
   "outputs": [
    {
     "data": {
      "text/plain": [
       "<matplotlib.figure.Figure at 0x7fbb887680b8>"
      ]
     },
     "metadata": {},
     "output_type": "display_data"
    },
    {
     "data": {
      "text/plain": [
       "<matplotlib.figure.Figure at 0x7fbb885c5c88>"
      ]
     },
     "metadata": {},
     "output_type": "display_data"
    }
   ],
   "source": [
    "c, e1, e2, e3 = plt.hist2d(z1.bX, z1.bY, weights=z1.rst0.values, bins=50)\n",
    "plt.plot(zb1.bX, zb1.bY, 'x', color=\"red\")\n",
    "plt.show()\n",
    "plt.plot(z1.bX, z1.bY, '.', alpha=0.1)\n",
    "plt.plot(zb1.bX, zb1.bY, 'x', color=\"red\")\n",
    "plt.show()\n",
    "\n"
   ]
  },
  {
   "cell_type": "code",
   "execution_count": 92,
   "metadata": {
    "autoscroll": false,
    "collapsed": false,
    "ein.tags": "worksheet-0",
    "slideshow": {
     "slide_type": "-"
    }
   },
   "outputs": [
    {
     "data": {
      "text/plain": [
       "<matplotlib.figure.Figure at 0x7fbb8868ada0>"
      ]
     },
     "metadata": {},
     "output_type": "display_data"
    },
    {
     "data": {
      "text/plain": [
       "<matplotlib.figure.Figure at 0x7fbb811182e8>"
      ]
     },
     "metadata": {},
     "output_type": "display_data"
    }
   ],
   "source": [
    "c, e1, e2, e3 = plt.hist2d(z1.Z, z1.Y, weights=z1.rst0.values, bins=50)\n",
    "plt.plot(zb1.Z, zb1.Y, 'x', color=\"red\")\n",
    "plt.show()\n",
    "plt.plot(z1.Z, z1.Y, '.', alpha=0.1)\n",
    "plt.plot(zb1.Z, zb1.Y, 'x', color=\"red\")\n",
    "plt.show()\n",
    "\n"
   ]
  },
  {
   "cell_type": "code",
   "execution_count": 32,
   "metadata": {
    "autoscroll": false,
    "collapsed": false,
    "ein.tags": "worksheet-0",
    "slideshow": {
     "slide_type": "-"
    }
   },
   "outputs": [
    {
     "data": {
      "text/plain": [
       "array([  2.03238727e-04,   6.31047937e-04,   6.70780521e-03, ...,\n         2.05194442e-06,   1.77215524e-02,   1.75040492e-04], dtype=float32)"
      ]
     },
     "execution_count": 32,
     "metadata": {},
     "output_type": "execute_result"
    }
   ],
   "source": [
    "z1.rst0.valueso"
   ]
  },
  {
   "cell_type": "code",
   "execution_count": 19,
   "metadata": {
    "autoscroll": false,
    "collapsed": false,
    "ein.tags": "worksheet-0",
    "slideshow": {
     "slide_type": "-"
    }
   },
   "outputs": [
    {
     "data": {
      "text/plain": [
       "<matplotlib.figure.Figure at 0x7fbbb148ea20>"
      ]
     },
     "metadata": {},
     "output_type": "display_data"
    },
    {
     "data": {
      "text/plain": [
       "(array([  5.49806000e+05,   1.45793600e+06,   2.49809500e+06,\n          3.02172400e+06,   1.95753300e+06,   3.12540000e+05,\n          6.15300000e+03,   1.89100000e+03,   5.94000000e+02,\n          1.14000000e+02]),\n array([  1.26501774e-04,   1.34783663e-01,   2.69440824e-01,\n          4.04097985e-01,   5.38755146e-01,   6.73412307e-01,\n          8.08069468e-01,   9.42726629e-01,   1.07738379e+00,\n          1.21204095e+00,   1.34669811e+00]),\n <a list of 10 Patch objects>)"
      ]
     },
     "execution_count": 19,
     "metadata": {},
     "output_type": "execute_result"
    }
   ],
   "source": [
    "plt.hist(np.sqrt(z.TX ** 2 + z.TY ** 2))"
   ]
  },
  {
   "cell_type": "code",
   "execution_count": 20,
   "metadata": {
    "autoscroll": false,
    "collapsed": false,
    "ein.tags": "worksheet-0",
    "slideshow": {
     "slide_type": "-"
    }
   },
   "outputs": [
    {
     "data": {
      "text/plain": [
       "         event_id             X             Y        Z        TX        TY  \\\nindex                                                                        \n9631        13102  47520.363281  25755.378906  69822.0 -0.810891  0.648075   \n16410       19427  40259.339844  36536.140625  62064.0 -0.736207 -0.764379   \n31102         195  51781.238281  21831.496094  53013.0  0.768452  0.711003   \n32883       23165  41594.578125  38970.515625  58185.0 -0.944740 -0.331315   \n45215       34765  57687.667969  22267.976562  49134.0 -0.834082 -0.749237   \n46178        3734  60609.691406  33944.347656  37497.0  0.761198  0.675270   \n48025       10457  47202.039062  46950.007812  46548.0  0.374130  0.997696   \n58102       37502  41637.304688  15404.992188  62064.0  0.498261  0.959052   \n65078        8931  51145.382812  19797.472656  63357.0  0.916393  0.468397   \n93795        6822  50553.515625  38716.007812  45255.0 -0.593406  0.833993   \n97239       24497  60620.695312  52586.566406  64650.0  0.292085 -0.965850   \n101813        737  45235.484375  51159.503906  71115.0 -0.945042 -0.498447   \n107739       8931  40007.632812  17789.562500  36204.0  0.775818 -0.846829   \n108004      24760  52984.367188  19106.906250  72408.0  0.741908 -0.888390   \n136688      24760  48563.093750  20070.632812  65943.0 -0.399321 -0.959812   \n138958       5769  61422.859375  17704.275391  18102.0 -0.742206 -0.995584   \n148441      10457  48626.937500  44818.890625  47841.0  0.791741 -0.774293   \n164316      35316  49474.570312  46646.652344  54306.0 -0.538667  0.885851   \n165696      33487  63948.867188  61889.050781  58185.0  0.384807 -0.957594   \n174926       6312  46065.917969  61640.843750  65943.0  0.803441  0.663491   \n190804      33398  47611.707031  58944.125000  41376.0  0.343778 -0.990376   \n194090      44118  42729.042969  58842.222656  50427.0  0.390504  0.972240   \n204074      24760  50237.820312  18145.769531  63357.0  0.766071 -0.711607   \n211867      39377  51830.515625  39907.429688  68529.0 -0.773847 -0.677874   \n224203      36435  59939.312500  33232.328125  58185.0  0.596136  0.945404   \n231607      10457  43909.140625  46981.718750  56892.0 -0.856883  0.612105   \n231687      10846  51166.472656  55814.054688  59478.0 -0.692150 -0.886304   \n238368       9699  56814.820312  12545.699219  50427.0 -0.873270  0.616997   \n239562      38905  60081.789062  55734.289062  33618.0 -0.959240  0.329515   \n247250       9166  41744.839844  23069.449219  50427.0  0.948298  0.742225   \n...           ...           ...           ...      ...       ...       ...   \n9635744     12388  57065.617188  23362.511719  41376.0  0.721531 -0.849177   \n9642153     45628  39108.648438  56696.597656  47841.0 -0.970130 -0.261212   \n9661065     35692  63138.332031  66284.703125  51720.0 -0.598317  0.909172   \n9665391      1669  53127.882812  44880.226562  65943.0  0.829288  0.738384   \n9676674     33452  61974.078125  67039.789062  45255.0 -0.899907  0.600632   \n9680901      7754  61207.035156  66491.375000  40083.0 -0.552334  0.845275   \n9681482     45022  49638.421875  47848.996094  67236.0  0.564574 -0.950995   \n9693009       806  38931.132812  33302.664062  54306.0  0.615276  0.887555   \n9698371     34034  46132.035156  49487.921875  49134.0 -0.733966  0.911088   \n9702432     36435  61795.128906  37220.187500  56892.0  0.836179  0.571828   \n9715962      8240  42224.218750  19331.183594  64650.0 -0.756529  0.795201   \n9716343      1815  53280.671875  21814.984375  65943.0  0.836179  0.749833   \n9719711     41830  59978.703125  66877.312500  71115.0  0.665895  0.859544   \n9725985     48351  47549.687500  55053.308594  69822.0  0.804036 -0.606213   \n9733005      3408  44292.335938  59672.031250  36204.0 -0.889178 -0.649479   \n9733707       737  53994.437500  54787.218750  71115.0 -0.679176  0.853550   \n9737838     32863  58530.921875  65148.101562  55599.0 -0.519187  0.861104   \n9743891     10846  51501.171875  61792.515625  60771.0 -0.889467  0.677102   \n9744917      9921  47443.125000  33950.714844  63357.0 -0.874804 -0.540137   \n9745258       195  54515.972656  27198.710938  56892.0  0.810965 -0.603832   \n9748437     31019  54334.160156  36949.773438  47841.0  0.847331  0.723707   \n9751569      4219  57456.367188  12359.984375  67236.0  0.951781  0.606901   \n9753935      9921  45294.828125  35391.753906  58185.0  0.503878  0.910902   \n9755101      1592  49199.566406  61777.457031  50427.0 -0.541495  0.853104   \n9760323     37947  61759.910156  57581.015625  67236.0  0.654771  0.951889   \n9764501     40445  58763.382812  14641.375000  64650.0  0.189039 -0.992390   \n9765870      1592  54157.066406  59159.554688  50427.0 -0.479534 -0.896968   \n9784096      6312  40024.968750  58385.054688  71115.0 -0.931645 -0.419299   \n9786865      3052  55337.617188  47151.632812  65943.0  0.947805  0.421959   \n9804394      9713  50197.296875  49703.250000  55599.0  0.996880 -0.255227   \n\n             chi2  signal  brick_number      rst0  bX  bY  \nindex                                                      \n9631     2.568921     1.0            91  0.999990 NaN NaN  \n16410    2.105776     1.0            40  0.999731 NaN NaN  \n31102    0.540192     1.0            77  0.999967 NaN NaN  \n32883    0.483823     1.0            48  0.999402 NaN NaN  \n45215    1.610680     1.0            52  0.999996 NaN NaN  \n46178    0.456012     1.0            60  0.999936 NaN NaN  \n48025    0.994785     1.0            19  0.999992 NaN NaN  \n58102    0.585167     1.0            71  0.999933 NaN NaN  \n65078    0.944486     1.0            12  0.999088 NaN NaN  \n93795    1.443079     1.0            82  0.999978 NaN NaN  \n97239    0.696386     1.0            51  0.997053 NaN NaN  \n101813   0.428563     1.0            69  0.996220 NaN NaN  \n107739   0.979554     1.0            12  1.000000 NaN NaN  \n108004   1.176795     1.0            68  0.999998 NaN NaN  \n136688   2.107110     1.0            68  0.999997 NaN NaN  \n138958   0.328777     1.0            26  0.996263 NaN NaN  \n148441   0.241283     1.0            19  1.000000 NaN NaN  \n164316   2.738120     1.0            41  0.998903 NaN NaN  \n165696   0.661054     1.0            68  0.999085 NaN NaN  \n174926   2.975251     1.0            83  0.999905 NaN NaN  \n190804   1.066390     1.0            20  0.999983 NaN NaN  \n194090   1.619605     1.0            40  0.999995 NaN NaN  \n204074   0.697865     1.0            68  0.999999 NaN NaN  \n211867   0.605520     1.0            39  0.999810 NaN NaN  \n224203   2.560267     1.0            24  0.999992 NaN NaN  \n231607   2.956645     1.0            19  0.999961 NaN NaN  \n231687   2.986847     1.0            82  0.999472 NaN NaN  \n238368   1.217351     1.0            55  0.999953 NaN NaN  \n239562   2.404184     1.0            60  0.994428 NaN NaN  \n247250   2.980939     1.0            88  0.999787 NaN NaN  \n...           ...     ...           ...       ...  ..  ..  \n9635744  2.216461     1.0            13  0.999994 NaN NaN  \n9642153  0.866985     1.0            94  0.999982 NaN NaN  \n9661065  0.520801     1.0             8  0.999993 NaN NaN  \n9665391  1.636762     1.0            38  0.999994 NaN NaN  \n9676674  0.949228     1.0            35  0.999966 NaN NaN  \n9680901  1.081490     1.0            72  0.999989 NaN NaN  \n9681482  2.305995     1.0            62  0.999950 NaN NaN  \n9693009  1.632435     1.0            67  0.999966 NaN NaN  \n9698371  1.575163     1.0            28  0.999999 NaN NaN  \n9702432  2.138862     1.0            24  0.999988 NaN NaN  \n9715962  0.468032     1.0            38  0.999993 NaN NaN  \n9716343  0.882561     1.0            23  0.999999 NaN NaN  \n9719711  1.026607     1.0            40  0.999994 NaN NaN  \n9725985  1.533093     1.0            49  0.999879 NaN NaN  \n9733005  2.955543     1.0            72  0.999941 NaN NaN  \n9733707  2.437761     1.0            69  0.999934 NaN NaN  \n9737838  1.924371     1.0            42  0.999977 NaN NaN  \n9743891  1.113001     1.0            82  0.999999 NaN NaN  \n9744917  2.549349     1.0            89  0.999941 NaN NaN  \n9745258  1.333045     1.0            77  0.999851 NaN NaN  \n9748437  1.071502     1.0            49  0.999981 NaN NaN  \n9751569  0.802679     1.0            62  0.999926 NaN NaN  \n9753935  1.210246     1.0            89  0.999613 NaN NaN  \n9755101  1.508520     1.0            38  0.999151 NaN NaN  \n9760323  1.333604     1.0            17  0.999991 NaN NaN  \n9764501  1.428746     1.0            81  0.999945 NaN NaN  \n9765870  2.417233     1.0            38  0.999888 NaN NaN  \n9784096  0.233840     1.0            83  0.999912 NaN NaN  \n9786865  0.759875     1.0            32  0.999995 NaN NaN  \n9804394  2.168305     1.0            31  0.997903 NaN NaN  \n\n[1503 rows x 12 columns]"
      ]
     },
     "execution_count": 20,
     "metadata": {},
     "output_type": "execute_result"
    }
   ],
   "source": [
    "z.query(\"TX**2 + TY**2 > 1\")"
   ]
  },
  {
   "cell_type": "code",
   "execution_count": 21,
   "metadata": {
    "autoscroll": false,
    "collapsed": false,
    "ein.tags": "worksheet-0",
    "slideshow": {
     "slide_type": "-"
    }
   },
   "outputs": [
    {
     "data": {
      "text/plain": [
       "0.70710678118654757"
      ]
     },
     "execution_count": 21,
     "metadata": {},
     "output_type": "execute_result"
    }
   ],
   "source": [
    "np.sqrt(0.5)"
   ]
  },
  {
   "cell_type": "code",
   "execution_count": null,
   "metadata": {
    "autoscroll": false,
    "collapsed": false,
    "ein.tags": "worksheet-0",
    "slideshow": {
     "slide_type": "-"
    }
   },
   "outputs": [],
   "source": []
  }
 ],
 "metadata": {
  "kernelspec": {
   "display_name": "Python 3",
   "name": "python3"
  },
  "language_info": {
   "codemirror_mode": {
    "name": "ipython",
    "version": 3
   },
   "file_extension": ".py",
   "mimetype": "text/x-python",
   "name": "python",
   "nbconvert_exporter": "python",
   "pygments_lexer": "ipython3",
   "version": "3.6.1"
  },
  "name": "residual.ipynb"
 },
 "nbformat": 4,
 "nbformat_minor": 2
}
