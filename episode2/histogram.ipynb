{
 "cells": [
  {
   "cell_type": "markdown",
   "metadata": {
    "ein.tags": "worksheet-0",
    "slideshow": {
     "slide_type": "-"
    }
   },
   "source": [
    "# Count connected tracks inside a cone"
   ]
  },
  {
   "cell_type": "code",
   "execution_count": 1,
   "metadata": {
    "autoscroll": false,
    "collapsed": false,
    "ein.tags": "worksheet-0",
    "slideshow": {
     "slide_type": "-"
    }
   },
   "outputs": [],
   "source": [
    "import numpy as np\n",
    "import pandas as pd\n",
    "from matplotlib import pyplot as plt"
   ]
  },
  {
   "cell_type": "code",
   "execution_count": 2,
   "metadata": {
    "autoscroll": false,
    "collapsed": false,
    "ein.tags": "worksheet-0",
    "slideshow": {
     "slide_type": "-"
    }
   },
   "outputs": [
    {
     "name": "stderr",
     "output_type": "stream",
     "text": [
      "/fefs/disk/usr100/gentoo/usr/lib64/python3.6/site-packages/numpy/lib/arraysetops.py:463: FutureWarning: elementwise comparison failed; returning scalar instead, but in the future will perform elementwise comparison\n",
      "  mask |= (ar1 == a)\n"
     ]
    }
   ],
   "source": [
    "df = pd.read_csv('DS_2_train.csv', index_col=0)\n",
    "df_test = pd.read_csv('DS_2_test.csv', index_col=0)"
   ]
  },
  {
   "cell_type": "code",
   "execution_count": 3,
   "metadata": {
    "autoscroll": false,
    "collapsed": false,
    "ein.tags": "worksheet-0",
    "slideshow": {
     "slide_type": "-"
    }
   },
   "outputs": [
    {
     "name": "stdout",
     "output_type": "stream",
     "text": [
      "[     0.   1293.   2586.   3879.   5172.   6465.   7758.   9051.  10344.\n",
      "  11637.  12930.  14223.  15516.  16809.  18102.  19395.  20688.  21981.\n",
      "  23274.  24567.  25860.  27153.  28446.  29739.  31032.  32325.  33618.\n",
      "  34911.  36204.  37497.  38790.  40083.  41376.  42669.  43962.  45255.\n",
      "  46548.  47841.  49134.  50427.  51720.  53013.  54306.  55599.  56892.\n",
      "  58185.  59478.  60771.  62064.  63357.  64650.  65943.  67236.  68529.\n",
      "  69822.  71115.  72408.]\n"
     ]
    }
   ],
   "source": [
    "zl = np.unique(df['Z'])\n",
    "print(zl)\n",
    "zmin = np.min(zl)\n",
    "zmax = np.max(zl)\n",
    "bw = 1000\n",
    "dz = np.diff(zl)[0]\n",
    "xl = np.arange(27700, 74000, bw)\n",
    "yl = np.arange(3300, 77900, bw)"
   ]
  },
  {
   "cell_type": "code",
   "execution_count": 4,
   "metadata": {
    "autoscroll": false,
    "collapsed": false,
    "ein.tags": "worksheet-0",
    "slideshow": {
     "slide_type": "-"
    }
   },
   "outputs": [],
   "source": [
    "bs = np.array([1,3,1])\n",
    "kr1 = np.outer(bs, np.outer(bs, bs)).reshape(3,3,3)\n",
    "from scipy.ndimage import convolve"
   ]
  },
  {
   "cell_type": "code",
   "execution_count": 5,
   "metadata": {
    "autoscroll": false,
    "collapsed": false,
    "ein.tags": "worksheet-0",
    "slideshow": {
     "slide_type": "-"
    }
   },
   "outputs": [
    {
     "name": "stderr",
     "output_type": "stream",
     "text": [
      "/fefs/disk/usr100/gentoo/usr/lib64/python3.6/site-packages/ipykernel_launcher.py:5: SettingWithCopyWarning: \n",
      "A value is trying to be set on a copy of a slice from a DataFrame.\n",
      "Try using .loc[row_indexer,col_indexer] = value instead\n",
      "\n",
      "See the caveats in the documentation: http://pandas.pydata.org/pandas-docs/stable/indexing.html#indexing-view-versus-copy\n",
      "  \"\"\"\n"
     ]
    }
   ],
   "source": [
    "dd = df.query(\"brick_number==57\")\n",
    "cnt, bnd = np.histogramdd(dd[[\"X\", \"Y\", \"Z\"]].values, bins=(xl, yl, np.append(zl, zmax+2*dz)))\n",
    "dd['cnt'] = cnt[(dd[\"X\"].values.astype(int) - 27700)//bw, \n",
    "                (dd[\"Y\"].values.astype(int) - 3300)//bw, \n",
    "                dd[\"Z\"].values.astype(int)//1293]"
   ]
  },
  {
   "cell_type": "code",
   "execution_count": 6,
   "metadata": {
    "autoscroll": false,
    "collapsed": false,
    "ein.tags": "worksheet-0",
    "slideshow": {
     "slide_type": "-"
    }
   },
   "outputs": [],
   "source": [
    "def hiss(dd, n):\n",
    "    cnt, bnd = np.histogramdd(dd[[\"X\", \"Y\", \"Z\"]].values, bins=(xl, yl, np.append(zl, zmax+2*dz)))\n",
    "    for i in np.arange(n):\n",
    "        cnt = convolve(cnt, kr1)\n",
    "    dd['cnt'] = cnt[(dd[\"X\"].values.astype(int) - 27700)//bw, \n",
    "                    (dd[\"Y\"].values.astype(int) - 3300)//bw, \n",
    "                    dd[\"Z\"].values.astype(int)//1293]\n",
    "    return dd"
   ]
  },
  {
   "cell_type": "code",
   "execution_count": 7,
   "metadata": {
    "autoscroll": false,
    "collapsed": false,
    "ein.tags": "worksheet-0",
    "slideshow": {
     "slide_type": "-"
    }
   },
   "outputs": [],
   "source": [
    "def hiss_n(n):\n",
    "    rename = {\"cnt\":\"cnt{}\".format(n), \"dback\":\"cnt{}\".format(n)}\n",
    "    xdf = df.groupby(\"brick_number\").apply(hiss, n)\n",
    "    xdfo = xdf[['cnt']].rename(columns=rename)\n",
    "    xdfo.to_hdf(\"hiss-r{}.h5\".format(n), \"train\")\n",
    "    xdft = df_test.groupby(\"brick_number\").apply(hiss, n)\n",
    "    xdfot = xdft[['cnt']].rename(columns=rename)\n",
    "    xdfot.to_hdf(\"hiss-r{}.h5\".format(n), \"test\")\n",
    "    return n"
   ]
  },
  {
   "cell_type": "code",
   "execution_count": 8,
   "metadata": {
    "autoscroll": false,
    "collapsed": false,
    "ein.tags": "worksheet-0",
    "slideshow": {
     "slide_type": "-"
    }
   },
   "outputs": [],
   "source": [
    "from concurrent.futures import ProcessPoolExecutor"
   ]
  },
  {
   "cell_type": "code",
   "execution_count": 9,
   "metadata": {
    "autoscroll": false,
    "collapsed": false,
    "ein.tags": "worksheet-0",
    "slideshow": {
     "slide_type": "-"
    }
   },
   "outputs": [],
   "source": [
    "with ProcessPoolExecutor(max_workers=6) as executor:\n",
    "    rst = list(executor.map(hiss_n, range(6)))"
   ]
  },
  {
   "cell_type": "code",
   "execution_count": null,
   "metadata": {
    "autoscroll": false,
    "collapsed": false,
    "ein.tags": "worksheet-0",
    "slideshow": {
     "slide_type": "-"
    }
   },
   "outputs": [],
   "source": []
  }
 ],
 "metadata": {
  "anaconda-cloud": null,
  "kernelspec": {
   "display_name": "Python 3",
   "name": "python3"
  },
  "language_info": {
   "codemirror_mode": {
    "name": "ipython",
    "version": 3
   },
   "file_extension": ".py",
   "mimetype": "text/x-python",
   "name": "python",
   "nbconvert_exporter": "python",
   "pygments_lexer": "ipython3",
   "version": "3.6.1"
  },
  "name": "histogram.ipynb"
 },
 "nbformat": 4,
 "nbformat_minor": 1
}
