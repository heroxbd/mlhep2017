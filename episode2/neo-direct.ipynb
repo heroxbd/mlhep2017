{
 "cells": [
  {
   "cell_type": "markdown",
   "metadata": {
    "ein.tags": "worksheet-0",
    "slideshow": {
     "slide_type": "-"
    }
   },
   "source": [
    "# aggregate results\n",
    "\n",
    "0.997706276413\n",
    "0.997421607422\n",
    "0.996728503538\n",
    "0.997075149144\n",
    "0.998020443775\n"
   ]
  },
  {
   "cell_type": "code",
   "execution_count": 1,
   "metadata": {
    "autoscroll": false,
    "ein.tags": "worksheet-0",
    "slideshow": {
     "slide_type": "-"
    }
   },
   "outputs": [
    {
     "name": "stderr",
     "output_type": "stream",
     "text": [
      "/fefs/disk/usr100/gentoo/usr/lib64/python3.6/site-packages/sklearn/cross_validation.py:41: DeprecationWarning: This module was deprecated in version 0.18 in favor of the model_selection module into which all the refactored classes and functions are moved. Also note that the interface of the new CV iterators are different from that of this module. This module will be removed in 0.20.\n",
      "  \"This module will be removed in 0.20.\", DeprecationWarning)\n"
     ]
    }
   ],
   "source": [
    "import numpy as np\n",
    "import pandas as pd\n",
    "import xgboost\n",
    "from sklearn.metrics import roc_auc_score"
   ]
  },
  {
   "cell_type": "code",
   "execution_count": 2,
   "metadata": {
    "autoscroll": false,
    "collapsed": true,
    "ein.tags": "worksheet-0",
    "slideshow": {
     "slide_type": "-"
    }
   },
   "outputs": [],
   "source": [
    "try:\n",
    "    hn = pd.read_hdf(\"kernel.h5\", \"train\")\n",
    "except:\n",
    "    print(\"kernel.h5 not found\")\n",
    "    hough = False\n",
    "else:\n",
    "    hough = True\n",
    "    ht = pd.read_hdf(\"kernel.h5\", \"test\")\n",
    "    hfea = list(hn.columns)"
   ]
  },
  {
   "cell_type": "code",
   "execution_count": 3,
   "metadata": {
    "autoscroll": false,
    "ein.tags": "worksheet-0",
    "scrolled": false,
    "slideshow": {
     "slide_type": "-"
    }
   },
   "outputs": [
    {
     "name": "stderr",
     "output_type": "stream",
     "text": [
      "/fefs/disk/usr100/gentoo/usr/lib64/python3.6/site-packages/numpy/lib/arraysetops.py:463: FutureWarning: elementwise comparison failed; returning scalar instead, but in the future will perform elementwise comparison\n",
      "  mask |= (ar1 == a)\n"
     ]
    },
    {
     "name": "stdout",
     "output_type": "stream",
     "text": [
      "(9806386, 27)\n"
     ]
    }
   ],
   "source": [
    "dl = [pd.read_csv('DS_2_train.csv', index_col=0)]\n",
    "# dl.append(pd.read_hdf(\"data-r1.h5\", \"train\"))\n",
    "dl.append(pd.read_hdf(\"data-r1.h5\", \"train\"))\n",
    "for i in range(2,7):\n",
    "    dl.append(pd.read_hdf(\"data-r{}.h5\".format(i), \"train\"))\n",
    "for i in range(6):\n",
    "    dl.append(pd.read_hdf(\"hiss-r{}.h5\".format(i), \"train\"))\n",
    "d0 = pd.concat(dl, axis=1)\n",
    "print(d0.shape)"
   ]
  },
  {
   "cell_type": "code",
   "execution_count": 4,
   "metadata": {
    "autoscroll": false,
    "ein.tags": "worksheet-0",
    "slideshow": {
     "slide_type": "-"
    }
   },
   "outputs": [
    {
     "name": "stderr",
     "output_type": "stream",
     "text": [
      "/fefs/disk/usr100/gentoo/usr/lib64/python3.6/site-packages/numpy/lib/arraysetops.py:463: FutureWarning: elementwise comparison failed; returning scalar instead, but in the future will perform elementwise comparison\n",
      "  mask |= (ar1 == a)\n"
     ]
    },
    {
     "name": "stdout",
     "output_type": "stream",
     "text": [
      "(9807599, 25)\n"
     ]
    }
   ],
   "source": [
    "el = [pd.read_csv('DS_2_test.csv', index_col=0)]\n",
    "el.append(pd.read_hdf(\"data-r1.h5\", \"test\"))\n",
    "for i in range(2,7):\n",
    "    el.append(pd.read_hdf(\"data-r{}.h5\".format(i), \"test\"))\n",
    "for i in range(6):\n",
    "    el.append(pd.read_hdf(\"hiss-r{}.h5\".format(i), \"test\"))\n",
    "e0 = pd.concat(el, axis=1)\n",
    "print(e0.shape)"
   ]
  },
  {
   "cell_type": "code",
   "execution_count": 5,
   "metadata": {
    "autoscroll": false,
    "ein.tags": "worksheet-0",
    "slideshow": {
     "slide_type": "-"
    }
   },
   "outputs": [
    {
     "name": "stdout",
     "output_type": "stream",
     "text": [
      "(9806386, 37) (9807599, 35)\n"
     ]
    }
   ],
   "source": [
    "if hough:\n",
    "    d0 = pd.concat([d0, hn], axis=1)\n",
    "    e0 = pd.concat([e0, ht], axis=1)\n",
    "print(d0.shape, e0.shape)"
   ]
  },
  {
   "cell_type": "code",
   "execution_count": 6,
   "metadata": {
    "autoscroll": false,
    "ein.tags": "worksheet-0",
    "slideshow": {
     "slide_type": "-"
    }
   },
   "outputs": [
    {
     "name": "stdout",
     "output_type": "stream",
     "text": [
      "Index(['X', 'Y', 'Z', 'TX', 'TY', 'chi2', 'brick_number', 'dfore', 'dback',\n",
      "       'dfore2', 'dback2', 'dfore3', 'dback3', 'dfore4', 'dback4', 'dfore5',\n",
      "       'dback5', 'dfore6', 'dback6', 'cnt0', 'cnt1', 'cnt2', 'cnt3', 'cnt4',\n",
      "       'cnt5', 'hb0', 'hb1', 'hb2', 'hb4', 'hb8', 'rb0', 'rb1', 'rb2', 'rb4',\n",
      "       'rb8'],\n",
      "      dtype='object') Index(['event_id', 'X', 'Y', 'Z', 'TX', 'TY', 'chi2', 'signal', 'brick_number',\n",
      "       'dfore', 'dback', 'dfore2', 'dback2', 'dfore3', 'dback3', 'dfore4',\n",
      "       'dback4', 'dfore5', 'dback5', 'dfore6', 'dback6', 'cnt0', 'cnt1',\n",
      "       'cnt2', 'cnt3', 'cnt4', 'cnt5', 'hb0', 'hb1', 'hb2', 'hb4', 'hb8',\n",
      "       'rb0', 'rb1', 'rb2', 'rb4', 'rb8'],\n",
      "      dtype='object')\n"
     ]
    }
   ],
   "source": [
    "print(e0.columns, d0.columns)"
   ]
  },
  {
   "cell_type": "code",
   "execution_count": 7,
   "metadata": {
    "autoscroll": false,
    "ein.tags": "worksheet-0",
    "slideshow": {
     "slide_type": "-"
    }
   },
   "outputs": [
    {
     "name": "stdout",
     "output_type": "stream",
     "text": [
      "                  X             Y        Z        TX        TY      chi2  \\\n",
      "index                                                                      \n",
      "0      56472.238281  54979.070312  19395.0 -0.161979 -0.471001  2.681201   \n",
      "1      70306.289062  42301.472656  37497.0 -0.205394 -0.042299  1.413991   \n",
      "2      30427.056641  30543.578125  42669.0  0.234635  0.114081  2.702541   \n",
      "3      45467.257812  27151.515625  71115.0 -0.319327  0.561254  0.593076   \n",
      "4      59172.652344  33032.457031  41376.0  0.467150 -0.332887  2.236792   \n",
      "\n",
      "       brick_number         dfore         dback        dfore2    ...     \\\n",
      "index                                                            ...      \n",
      "0                68  4.641073e+05  3.821470e+06  2.056737e+06    ...      \n",
      "1                28  1.545539e+06  7.463376e+05  3.574570e+06    ...      \n",
      "2                34  1.195922e+06  1.540890e+06  3.068504e+05    ...      \n",
      "3                28  3.642606e+05  1.594315e+06  1.000000e+06    ...      \n",
      "4                44  1.602820e+06  3.038694e+06  1.259033e+06    ...      \n",
      "\n",
      "             hb0       hb1       hb2       hb4       hb8       rb0       rb1  \\\n",
      "index                                                                          \n",
      "0      10.457272  8.431804  7.763262  6.680264  4.542585  0.210547  0.976290   \n",
      "1       1.522010  2.062384  2.253275  2.377857  2.238469  0.040598  0.093455   \n",
      "2       4.256403  3.516719  3.166873  2.589550  2.129094  0.053830  0.060496   \n",
      "3      17.140944  8.776258  6.616351  5.006145  3.769679  1.777200  0.885766   \n",
      "4      13.118743  8.224169  6.127344  4.453087  2.783771  0.953941  0.683057   \n",
      "\n",
      "            rb2       rb4       rb8  \n",
      "index                                \n",
      "0      1.059879  0.886355  0.841371  \n",
      "1      0.097153  0.110073  0.277030  \n",
      "2      0.063650  0.088117  0.206958  \n",
      "3      0.769010  0.725123  0.696541  \n",
      "4      0.803760  0.775833  0.670392  \n",
      "\n",
      "[5 rows x 35 columns]        event_id             X             Y        Z        TX        TY  \\\n",
      "index                                                                      \n",
      "0          -999  66162.843750  65620.031250      0.0  0.166890  0.276674   \n",
      "1          -999  43900.445312  67091.671875      0.0 -0.179967 -0.478795   \n",
      "2          -999  37564.019531  26618.890625  55599.0 -0.267820 -0.282087   \n",
      "3          -999  39380.027344  48135.425781  19395.0  0.265197 -0.577493   \n",
      "4          -999  65040.781250  44018.468750  12930.0 -0.711161 -0.245592   \n",
      "\n",
      "           chi2  signal  brick_number         dfore    ...          hb0  \\\n",
      "index                                                  ...                \n",
      "0      2.988714     0.0            44  1.198506e+06    ...     2.871033   \n",
      "1      1.901420     0.0            98  6.445771e+06    ...     1.282868   \n",
      "2      2.510245     0.0            64  2.026458e+05    ...     3.264675   \n",
      "3      1.215219     0.0            63  3.390571e+06    ...     2.603716   \n",
      "4      2.973661     0.0             2  3.823635e+06    ...     5.978197   \n",
      "\n",
      "            hb1       hb2       hb4       hb8       rb0       rb1       rb2  \\\n",
      "index                                                                         \n",
      "0      3.691034  4.943254  4.833770  2.878534  0.196768  0.281397  0.275723   \n",
      "1      1.741007  1.912579  1.905553  1.880611  0.328541  0.486980  0.548003   \n",
      "2      4.506506  4.440483  4.117433  3.098463  0.218657  0.484656  0.469254   \n",
      "3      2.297204  2.189401  2.151984  1.856860  0.096803  0.282933  0.321206   \n",
      "4      7.128446  6.594910  5.717083  3.803670  0.420721  0.474222  0.627812   \n",
      "\n",
      "            rb4       rb8  \n",
      "index                      \n",
      "0      0.276910  0.342955  \n",
      "1      0.531899  0.465895  \n",
      "2      0.476033  0.436789  \n",
      "3      0.371209  0.415910  \n",
      "4      0.967327  0.711249  \n",
      "\n",
      "[5 rows x 37 columns]\n"
     ]
    }
   ],
   "source": [
    "print(e0.head(), d0.head())"
   ]
  },
  {
   "cell_type": "code",
   "execution_count": 25,
   "metadata": {
    "autoscroll": false,
    "collapsed": true,
    "ein.tags": "worksheet-0",
    "slideshow": {
     "slide_type": "-"
    }
   },
   "outputs": [],
   "source": [
    "# e0[ofeature].to_hdf(\"shared.h5\", \"test\", complevel=9)\n",
    "# hough = False\n"
   ]
  },
  {
   "cell_type": "code",
   "execution_count": 10,
   "metadata": {
    "autoscroll": false,
    "ein.tags": "worksheet-0",
    "slideshow": {
     "slide_type": "-"
    }
   },
   "outputs": [
    {
     "name": "stdout",
     "output_type": "stream",
     "text": [
      "['X', 'Y', 'Z', 'TX', 'TY', 'chi2', 'dfore2', 'dfore3', 'dfore4', 'dfore5', 'dfore6', 'dback2', 'dback3', 'dback4', 'dback5', 'dback6', 'dback', 'dfore', 'cnt0', 'cnt1', 'cnt2', 'cnt3', 'hb0', 'hb1', 'hb2', 'hb4', 'hb8', 'rb0', 'rb1', 'rb2', 'rb4', 'rb8']\n"
     ]
    }
   ],
   "source": [
    "features = [\"X\", \"Y\", \"Z\", \"TX\", \"TY\", \"chi2\"] + [\"dfore{}\".format(i) for i in range(2,7)]\n",
    "features += [\"dback{}\".format(i) for i in range(2,7)]\n",
    "features += [\"dback\", \"dfore\"]\n",
    "features += [\"cnt{}\".format(i) for i in range(4)]\n",
    "if hough:\n",
    "    features += hfea\n",
    "print(features)    "
   ]
  },
  {
   "cell_type": "code",
   "execution_count": 48,
   "metadata": {
    "autoscroll": false,
    "collapsed": true,
    "ein.tags": "worksheet-0",
    "slideshow": {
     "slide_type": "-"
    }
   },
   "outputs": [],
   "source": [
    "N = 5\n",
    "# xgb1 = xgboost.XGBClassifier(n_estimators=500, nthread=18, max_depth=4, reg_alpha=0, reg_lambda=0.5)\n",
    "xgb1 = xgboost.XGBClassifier(n_estimators=1000, objective=\"binary:logistic\", nthread=18, max_depth=4, learning_rate=0.05, reg_alpha=0, reg_lambda=0.5, min_child_weight = 1, scale_pos_weight = 1)\n",
    "xgbi = xgboost.XGBClassifier(n_estimators=1000, objective=\"binary:logistic\", nthread=18, max_depth=4, learning_rate=0.05, reg_alpha=0.01, reg_lambda=0.5, min_child_weight = 1, scale_pos_weight = 1)\n",
    "def cvh(i):\n",
    "    test = d0.query(\"brick_number >= {} & brick_number < {}\".format(i, i+100//N))\n",
    "    train = d0.query(\"brick_number < {} | brick_number >= {}\".format(i, i+100//N))\n",
    "    train_s = train.query(\"signal==1\")\n",
    "    train1 = pd.concat((train_s, train.query(\"signal==0\").sample(len(train_s))))\n",
    "\n",
    "    xgb1.fit(train1[features], train1.signal)\n",
    "    pred0 = xgb1.predict_proba(test[features])[:,1]\n",
    "    print(roc_auc_score(test.signal, pred0))\n",
    "    return pd.DataFrame({'rst0': pred0}, index=test.index)"
   ]
  },
  {
   "cell_type": "code",
   "execution_count": 41,
   "metadata": {
    "autoscroll": false,
    "ein.tags": "worksheet-0",
    "slideshow": {
     "slide_type": "-"
    }
   },
   "outputs": [
    {
     "name": "stdout",
     "output_type": "stream",
     "text": [
      "0.998500675949\n"
     ]
    }
   ],
   "source": [
    "if hough:\n",
    "    i = 41\n",
    "    test = d0.query(\"brick_number >= {} & brick_number < {}\".format(i, i+100//N))\n",
    "    train = d0.query(\"brick_number < {} | brick_number >= {}\".format(i, i+100//N))\n",
    "    train_s = train.query(\"signal==1\")\n",
    "    train1 = pd.concat((train_s, train.query(\"signal==0\").sample(len(train_s))))\n",
    "\n",
    "    xgb1.fit(train1[features], train1.signal)\n",
    "    pred0 = xgb1.predict_proba(test[features])[:,1]\n",
    "    print(roc_auc_score(test.signal, pred0))\n",
    "else:\n",
    "    hpdn = pd.concat([cvh(i) for i in range(1, 101, 100//N)])\n",
    "    print(len(hpdn), len(d0))\n",
    "    hpdn.head()\n"
   ]
  },
  {
   "cell_type": "code",
   "execution_count": 47,
   "metadata": {
    "autoscroll": false,
    "ein.tags": "worksheet-0",
    "slideshow": {
     "slide_type": "-"
    }
   },
   "outputs": [
    {
     "name": "stdout",
     "output_type": "stream",
     "text": [
      "0.998526290623\n"
     ]
    }
   ],
   "source": [
    "xgb1.fit(train[features], train.signal)\n",
    "pred0 = xgb1.predict_proba(test[features])[:,1]\n",
    "print(roc_auc_score(test.signal, pred0))\n"
   ]
  },
  {
   "cell_type": "code",
   "execution_count": null,
   "metadata": {
    "autoscroll": false,
    "collapsed": true,
    "ein.tags": "worksheet-0",
    "slideshow": {
     "slide_type": "-"
    }
   },
   "outputs": [],
   "source": [
    "xgbi.fit(train[features], train.signal)\n",
    "pred0 = xgbi.predict_proba(test[features])[:,1]\n",
    "print(roc_auc_score(test.signal, pred0))\n"
   ]
  },
  {
   "cell_type": "markdown",
   "metadata": {
    "ein.tags": "worksheet-0",
    "slideshow": {
     "slide_type": "-"
    }
   },
   "source": [
    "max_depth=4: 0.998502320271\n",
    "max_depth=6: 0.998447495776\n",
    "learning_rate=0.1: 0.998500675949\n",
    "learning_rate=0.05: 0.99850024116\n",
    "n_estimators=1000: 0.998505775939\n",
    "imbalanced: 0.998526290623"
   ]
  },
  {
   "cell_type": "code",
   "execution_count": 29,
   "metadata": {
    "autoscroll": false,
    "ein.tags": "worksheet-0",
    "slideshow": {
     "slide_type": "-"
    }
   },
   "outputs": [
    {
     "name": "stdout",
     "output_type": "stream",
     "text": [
      "156950 313900\n"
     ]
    }
   ],
   "source": [
    "d0_s = d0.query(\"signal==1\")\n",
    "d01 = pd.concat((d0_s, d0.query(\"signal==0\").sample(len(d0_s))))\n",
    "print(len(d0_s), len(d01))"
   ]
  },
  {
   "cell_type": "code",
   "execution_count": 14,
   "metadata": {
    "autoscroll": false,
    "ein.tags": "worksheet-0",
    "slideshow": {
     "slide_type": "-"
    }
   },
   "outputs": [
    {
     "ename": "NameError",
     "evalue": "name 'test' is not defined",
     "output_type": "error",
     "traceback": [
      "\u001b[0;31m---------------------------------------------------------------------------\u001b[0m",
      "\u001b[0;31mNameError\u001b[0m                                 Traceback (most recent call last)",
      "\u001b[0;32m<ipython-input-14-fd8c1c1141f3>\u001b[0m in \u001b[0;36m<module>\u001b[0;34m()\u001b[0m\n\u001b[0;32m----> 1\u001b[0;31m \u001b[0mpred0\u001b[0m \u001b[0;34m=\u001b[0m \u001b[0mxgb1\u001b[0m\u001b[0;34m.\u001b[0m\u001b[0mpredict_proba\u001b[0m\u001b[0;34m(\u001b[0m\u001b[0mtest\u001b[0m\u001b[0;34m[\u001b[0m\u001b[0mfeatures\u001b[0m\u001b[0;34m]\u001b[0m\u001b[0;34m)\u001b[0m\u001b[0;34m[\u001b[0m\u001b[0;34m:\u001b[0m\u001b[0;34m,\u001b[0m\u001b[0;36m1\u001b[0m\u001b[0;34m]\u001b[0m\u001b[0;34m\u001b[0m\u001b[0m\n\u001b[0m\u001b[1;32m      2\u001b[0m \u001b[0mprint\u001b[0m\u001b[0;34m(\u001b[0m\u001b[0mroc_auc_score\u001b[0m\u001b[0;34m(\u001b[0m\u001b[0mtest\u001b[0m\u001b[0;34m.\u001b[0m\u001b[0msignal\u001b[0m\u001b[0;34m,\u001b[0m \u001b[0mpred0\u001b[0m\u001b[0;34m)\u001b[0m\u001b[0;34m)\u001b[0m\u001b[0;34m\u001b[0m\u001b[0m\n",
      "\u001b[0;31mNameError\u001b[0m: name 'test' is not defined"
     ]
    }
   ],
   "source": [
    "# pred0 = xgb1.predict_proba(test[features])[:,1]\n",
    "# print(roc_auc_score(test.signal, pred0))"
   ]
  },
  {
   "cell_type": "code",
   "execution_count": 11,
   "metadata": {
    "autoscroll": false,
    "ein.tags": "worksheet-0",
    "slideshow": {
     "slide_type": "-"
    }
   },
   "outputs": [
    {
     "data": {
      "text/plain": [
       "XGBClassifier(base_score=0.5, colsample_bylevel=1, colsample_bytree=1,\n",
       "       gamma=0, learning_rate=0.05, max_delta_step=0, max_depth=4,\n",
       "       min_child_weight=1, missing=None, n_estimators=1000, nthread=18,\n",
       "       objective='binary:logistic', reg_alpha=0.01, reg_lambda=0.5,\n",
       "       scale_pos_weight=1, seed=0, silent=True, subsample=1)"
      ]
     },
     "execution_count": 11,
     "metadata": {},
     "output_type": "execute_result"
    }
   ],
   "source": [
    "# xgb2 = xgboost.XGBClassifier(n_estimators=500, nthread=18, max_depth=4, reg_lambda=0.5)\n",
    "xgb2 = xgboost.XGBClassifier(n_estimators=1000, objective=\"binary:logistic\", nthread=18, max_depth=4, learning_rate=0.05, reg_alpha=0.01, reg_lambda=0.5, min_child_weight = 1, scale_pos_weight = 1)\n",
    "xgb2.fit(d0[features], d0.signal)"
   ]
  },
  {
   "cell_type": "code",
   "execution_count": 12,
   "metadata": {
    "autoscroll": false,
    "collapsed": true,
    "ein.tags": "worksheet-0",
    "slideshow": {
     "slide_type": "-"
    }
   },
   "outputs": [],
   "source": [
    "pred = xgb2.predict_proba(e0[features])[:,1]\n",
    "if not hough:\n",
    "    hpd = pd.DataFrame({'rst0': pred}, index=e0.index)"
   ]
  },
  {
   "cell_type": "code",
   "execution_count": 33,
   "metadata": {
    "autoscroll": false,
    "collapsed": true,
    "ein.tags": "worksheet-0",
    "slideshow": {
     "slide_type": "-"
    }
   },
   "outputs": [],
   "source": [
    "if not hough:\n",
    "    hpd.to_hdf(\"rst0.h5\", \"test\")\n",
    "    hpdn.to_hdf(\"rst0.h5\", \"train\")"
   ]
  },
  {
   "cell_type": "code",
   "execution_count": 13,
   "metadata": {
    "autoscroll": false,
    "collapsed": true,
    "ein.tags": "worksheet-0",
    "slideshow": {
     "slide_type": "-"
    }
   },
   "outputs": [],
   "source": [
    "def tresult(prediction, rev):\n",
    "    baseline = pd.DataFrame(prediction, columns=['Prediction'])\n",
    "    baseline.index.name = 'Id'\n",
    "    baseline.to_csv('{}.csv.gz'.format(rev), header=True, compression=\"gzip\")\n",
    "if hough:\n",
    "    tresult(pred, \"h-2p-r1\")\n",
    "else:\n",
    "    tresult(pred, \"noratio\")\n",
    "    print(\"Now proceed to histogram4d.ipynb... Then reload\")"
   ]
  },
  {
   "cell_type": "code",
   "execution_count": 27,
   "metadata": {
    "collapsed": true
   },
   "outputs": [],
   "source": [
    "mn = pd.read_hdf(\"mb.h5\", \"train\")\n",
    "\n",
    "mfea = list(filter(lambda x: x.find(\"Fwd\")==0 or x.find(\"Bwd\")==0, list(mn.columns)))\n",
    "\n",
    "mt = pd.read_hdf(\"mb.h5\", \"test\")\n",
    "\n",
    "d1 = pd.concat([d0, mn], axis=1)\n",
    "\n",
    "e1 = pd.concat([e0, mt], axis=1)\n",
    "\n",
    "ff = features + mfea"
   ]
  },
  {
   "cell_type": "code",
   "execution_count": 28,
   "metadata": {
    "collapsed": true
   },
   "outputs": [],
   "source": [
    "xgbf = xgboost.XGBClassifier(n_estimators=500, nthread=18, max_depth=4, reg_alpha=0, reg_lambda=0.5)"
   ]
  },
  {
   "cell_type": "code",
   "execution_count": 30,
   "metadata": {},
   "outputs": [],
   "source": [
    "i = 41\n",
    "ftest = d1.query(\"brick_number >= {} & brick_number < {}\".format(i, i+100//5))\n",
    "ftrain = d1.query(\"brick_number < {} | brick_number >= {}\".format(i, i+100//5))"
   ]
  },
  {
   "cell_type": "code",
   "execution_count": 31,
   "metadata": {
    "collapsed": true
   },
   "outputs": [],
   "source": [
    "ftrain_s = ftrain.query(\"signal==1\")\n",
    "ftrain1 = pd.concat((ftrain_s, ftrain.query(\"signal==0\").sample(len(ftrain_s))))\n"
   ]
  },
  {
   "cell_type": "code",
   "execution_count": 32,
   "metadata": {},
   "outputs": [
    {
     "ename": "ValueError",
     "evalue": "bad input shape (262054, 2)",
     "output_type": "error",
     "traceback": [
      "\u001b[0;31m---------------------------------------------------------------------------\u001b[0m",
      "\u001b[0;31mValueError\u001b[0m                                Traceback (most recent call last)",
      "\u001b[0;32m<ipython-input-32-7c3fd92e95c1>\u001b[0m in \u001b[0;36m<module>\u001b[0;34m()\u001b[0m\n\u001b[0;32m----> 1\u001b[0;31m \u001b[0mxgbf\u001b[0m\u001b[0;34m.\u001b[0m\u001b[0mfit\u001b[0m\u001b[0;34m(\u001b[0m\u001b[0mftrain1\u001b[0m\u001b[0;34m[\u001b[0m\u001b[0mff\u001b[0m\u001b[0;34m]\u001b[0m\u001b[0;34m,\u001b[0m \u001b[0mftrain1\u001b[0m\u001b[0;34m.\u001b[0m\u001b[0msignal\u001b[0m\u001b[0;34m)\u001b[0m\u001b[0;34m\u001b[0m\u001b[0m\n\u001b[0m\u001b[1;32m      2\u001b[0m \u001b[0mpred0\u001b[0m \u001b[0;34m=\u001b[0m \u001b[0mxgb1\u001b[0m\u001b[0;34m.\u001b[0m\u001b[0mpredict_proba\u001b[0m\u001b[0;34m(\u001b[0m\u001b[0mftest\u001b[0m\u001b[0;34m[\u001b[0m\u001b[0mff\u001b[0m\u001b[0;34m]\u001b[0m\u001b[0;34m)\u001b[0m\u001b[0;34m[\u001b[0m\u001b[0;34m:\u001b[0m\u001b[0;34m,\u001b[0m\u001b[0;36m1\u001b[0m\u001b[0;34m]\u001b[0m\u001b[0;34m\u001b[0m\u001b[0m\n\u001b[1;32m      3\u001b[0m \u001b[0mprint\u001b[0m\u001b[0;34m(\u001b[0m\u001b[0mroc_auc_score\u001b[0m\u001b[0;34m(\u001b[0m\u001b[0mftest\u001b[0m\u001b[0;34m.\u001b[0m\u001b[0msignal\u001b[0m\u001b[0;34m,\u001b[0m \u001b[0mpred0\u001b[0m\u001b[0;34m)\u001b[0m\u001b[0;34m)\u001b[0m\u001b[0;34m\u001b[0m\u001b[0m\n",
      "\u001b[0;32m/fefs/disk/usr100/gentoo/usr/lib64/python3.6/site-packages/xgboost/sklearn.py\u001b[0m in \u001b[0;36mfit\u001b[0;34m(self, X, y, sample_weight, eval_set, eval_metric, early_stopping_rounds, verbose)\u001b[0m\n\u001b[1;32m    415\u001b[0m                 \u001b[0mxgb_options\u001b[0m\u001b[0;34m.\u001b[0m\u001b[0mupdate\u001b[0m\u001b[0;34m(\u001b[0m\u001b[0;34m{\u001b[0m\u001b[0;34m\"eval_metric\"\u001b[0m\u001b[0;34m:\u001b[0m \u001b[0meval_metric\u001b[0m\u001b[0;34m}\u001b[0m\u001b[0;34m)\u001b[0m\u001b[0;34m\u001b[0m\u001b[0m\n\u001b[1;32m    416\u001b[0m \u001b[0;34m\u001b[0m\u001b[0m\n\u001b[0;32m--> 417\u001b[0;31m         \u001b[0mself\u001b[0m\u001b[0;34m.\u001b[0m\u001b[0m_le\u001b[0m \u001b[0;34m=\u001b[0m \u001b[0mXGBLabelEncoder\u001b[0m\u001b[0;34m(\u001b[0m\u001b[0;34m)\u001b[0m\u001b[0;34m.\u001b[0m\u001b[0mfit\u001b[0m\u001b[0;34m(\u001b[0m\u001b[0my\u001b[0m\u001b[0;34m)\u001b[0m\u001b[0;34m\u001b[0m\u001b[0m\n\u001b[0m\u001b[1;32m    418\u001b[0m         \u001b[0mtraining_labels\u001b[0m \u001b[0;34m=\u001b[0m \u001b[0mself\u001b[0m\u001b[0;34m.\u001b[0m\u001b[0m_le\u001b[0m\u001b[0;34m.\u001b[0m\u001b[0mtransform\u001b[0m\u001b[0;34m(\u001b[0m\u001b[0my\u001b[0m\u001b[0;34m)\u001b[0m\u001b[0;34m\u001b[0m\u001b[0m\n\u001b[1;32m    419\u001b[0m \u001b[0;34m\u001b[0m\u001b[0m\n",
      "\u001b[0;32m/fefs/disk/usr100/gentoo/usr/lib64/python3.6/site-packages/sklearn/preprocessing/label.py\u001b[0m in \u001b[0;36mfit\u001b[0;34m(self, y)\u001b[0m\n\u001b[1;32m     93\u001b[0m         \u001b[0mself\u001b[0m \u001b[0;34m:\u001b[0m \u001b[0mreturns\u001b[0m \u001b[0man\u001b[0m \u001b[0minstance\u001b[0m \u001b[0mof\u001b[0m \u001b[0mself\u001b[0m\u001b[0;34m.\u001b[0m\u001b[0;34m\u001b[0m\u001b[0m\n\u001b[1;32m     94\u001b[0m         \"\"\"\n\u001b[0;32m---> 95\u001b[0;31m         \u001b[0my\u001b[0m \u001b[0;34m=\u001b[0m \u001b[0mcolumn_or_1d\u001b[0m\u001b[0;34m(\u001b[0m\u001b[0my\u001b[0m\u001b[0;34m,\u001b[0m \u001b[0mwarn\u001b[0m\u001b[0;34m=\u001b[0m\u001b[0;32mTrue\u001b[0m\u001b[0;34m)\u001b[0m\u001b[0;34m\u001b[0m\u001b[0m\n\u001b[0m\u001b[1;32m     96\u001b[0m         \u001b[0mself\u001b[0m\u001b[0;34m.\u001b[0m\u001b[0mclasses_\u001b[0m \u001b[0;34m=\u001b[0m \u001b[0mnp\u001b[0m\u001b[0;34m.\u001b[0m\u001b[0munique\u001b[0m\u001b[0;34m(\u001b[0m\u001b[0my\u001b[0m\u001b[0;34m)\u001b[0m\u001b[0;34m\u001b[0m\u001b[0m\n\u001b[1;32m     97\u001b[0m         \u001b[0;32mreturn\u001b[0m \u001b[0mself\u001b[0m\u001b[0;34m\u001b[0m\u001b[0m\n",
      "\u001b[0;32m/fefs/disk/usr100/gentoo/usr/lib64/python3.6/site-packages/sklearn/utils/validation.py\u001b[0m in \u001b[0;36mcolumn_or_1d\u001b[0;34m(y, warn)\u001b[0m\n\u001b[1;32m    581\u001b[0m         \u001b[0;32mreturn\u001b[0m \u001b[0mnp\u001b[0m\u001b[0;34m.\u001b[0m\u001b[0mravel\u001b[0m\u001b[0;34m(\u001b[0m\u001b[0my\u001b[0m\u001b[0;34m)\u001b[0m\u001b[0;34m\u001b[0m\u001b[0m\n\u001b[1;32m    582\u001b[0m \u001b[0;34m\u001b[0m\u001b[0m\n\u001b[0;32m--> 583\u001b[0;31m     \u001b[0;32mraise\u001b[0m \u001b[0mValueError\u001b[0m\u001b[0;34m(\u001b[0m\u001b[0;34m\"bad input shape {0}\"\u001b[0m\u001b[0;34m.\u001b[0m\u001b[0mformat\u001b[0m\u001b[0;34m(\u001b[0m\u001b[0mshape\u001b[0m\u001b[0;34m)\u001b[0m\u001b[0;34m)\u001b[0m\u001b[0;34m\u001b[0m\u001b[0m\n\u001b[0m\u001b[1;32m    584\u001b[0m \u001b[0;34m\u001b[0m\u001b[0m\n\u001b[1;32m    585\u001b[0m \u001b[0;34m\u001b[0m\u001b[0m\n",
      "\u001b[0;31mValueError\u001b[0m: bad input shape (262054, 2)"
     ]
    }
   ],
   "source": [
    "xgbf.fit(ftrain1[ff], ftrain1.signal)\n",
    "pred0 = xgb1.predict_proba(ftest[ff])[:,1]\n",
    "print(roc_auc_score(ftest.signal, pred0))"
   ]
  },
  {
   "cell_type": "code",
   "execution_count": 46,
   "metadata": {},
   "outputs": [
    {
     "data": {
      "text/plain": [
       "6962742516"
      ]
     },
     "execution_count": 46,
     "metadata": {},
     "output_type": "execute_result"
    }
   ],
   "source": [
    "np.sum(np.abs(d0.event_id - mn.event_id))"
   ]
  },
  {
   "cell_type": "code",
   "execution_count": 44,
   "metadata": {},
   "outputs": [
    {
     "data": {
      "text/plain": [
       "Index(['event_id', 'X', 'Y', 'Z', 'TX', 'TY', 'chi2', 'signal', 'brick_number',\n",
       "       'X_n', 'Y_n', 'R_n', 'Phi_n', 'n_brick_trk', 'Fwd1_n', 'Fwd1_dTX',\n",
       "       'Fwd1_dTY', 'Fwd1_sTX', 'Fwd1_sTY', 'Fwd1_chi2', 'Fwd1_s_chi2',\n",
       "       'Fwd2_n', 'Fwd2_dTX', 'Fwd2_dTY', 'Fwd2_sTX', 'Fwd2_sTY', 'Fwd2_chi2',\n",
       "       'Fwd2_s_chi2', 'Fwd3_n', 'Fwd3_dTX', 'Fwd3_dTY', 'Fwd3_sTX', 'Fwd3_sTY',\n",
       "       'Fwd3_chi2', 'Fwd3_s_chi2', 'Bwd1_n', 'Bwd1_dTX', 'Bwd1_dTY',\n",
       "       'Bwd1_sTX', 'Bwd1_sTY', 'Bwd1_chi2', 'Bwd1_s_chi2', 'Bwd2_n',\n",
       "       'Bwd2_dTX', 'Bwd2_dTY', 'Bwd2_sTX', 'Bwd2_sTY', 'Bwd2_chi2',\n",
       "       'Bwd2_s_chi2', 'Bwd3_n', 'Bwd3_dTX', 'Bwd3_dTY', 'Bwd3_sTX', 'Bwd3_sTY',\n",
       "       'Bwd3_chi2', 'Bwd3_s_chi2', 'n_brick_tracks'],\n",
       "      dtype='object')"
      ]
     },
     "execution_count": 44,
     "metadata": {},
     "output_type": "execute_result"
    }
   ],
   "source": [
    "mn.columns"
   ]
  },
  {
   "cell_type": "code",
   "execution_count": null,
   "metadata": {
    "collapsed": true
   },
   "outputs": [],
   "source": []
  }
 ],
 "metadata": {
  "kernelspec": {
   "display_name": "Python 3",
   "language": "python3.6",
   "name": "python3"
  },
  "language_info": {
   "codemirror_mode": {
    "name": "ipython",
    "version": 3
   },
   "file_extension": ".py",
   "mimetype": "text/x-python",
   "name": "python",
   "nbconvert_exporter": "python",
   "pygments_lexer": "ipython3",
   "version": "3.6.1"
  },
  "name": "neo.ipynb"
 },
 "nbformat": 4,
 "nbformat_minor": 2
}
